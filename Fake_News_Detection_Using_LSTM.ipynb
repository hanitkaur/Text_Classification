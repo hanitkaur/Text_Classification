{
  "nbformat": 4,
  "nbformat_minor": 0,
  "metadata": {
    "colab": {
      "provenance": [],
      "gpuType": "T4"
    },
    "kernelspec": {
      "name": "python3",
      "display_name": "Python 3"
    },
    "language_info": {
      "name": "python"
    },
    "accelerator": "GPU"
  },
  "cells": [
    {
      "cell_type": "markdown",
      "source": [
        "#  Fake News Detector with LSTM  \n",
        "\n",
        "1.  Preprocess data\n",
        "2.  one_hot encoding\n",
        "3.  create LSTM model\n",
        "4.  observe the alteration in shape, flattening and then re-shaping - changes from embedding to flattening - to - dense layer <br>\n",
        "5. Observe the total weight matrix size of the LSTM - mathematical verification\n",
        "\n",
        "##  LSTM\n",
        " 'fit' or train on some training data; joins these two steps and is used for the initial fitting of parameters on the training set 𝑥, while also returning the transformed 𝑥′. Internally, the transformer object just calls first fit() and then transform() on the same data.<br>In the output, you will see (20000, 5) which means that each of the document has 5 columns where each column corresponds to the probability value of a particular topic."
      ],
      "metadata": {
        "id": "4S49IKbXj4d0"
      }
    },
    {
      "cell_type": "code",
      "source": [
        "import re\n",
        "import pandas as pd\n",
        "import nltk\n",
        "import numpy as np\n",
        "import tensorflow as tf\n",
        "from tensorflow.keras.layers import Embedding, Dense, LSTM, Dropout\n",
        "from tensorflow.keras.models import Sequential\n",
        "from tensorflow.keras.utils import plot_model\n",
        "from tensorflow.keras.preprocessing.text import one_hot\n",
        "from tensorflow.keras.preprocessing.sequence import pad_sequences\n",
        "from sklearn.metrics import classification_report\n",
        "from nltk.stem import WordNetLemmatizer\n",
        "from nltk.corpus import stopwords\n",
        "nltk.download('stopwords')\n",
        "nltk.download('wordnet')\n"
      ],
      "metadata": {
        "colab": {
          "base_uri": "https://localhost:8080/"
        },
        "id": "xnQfOACYkFxf",
        "outputId": "ab42e9ab-396c-40d1-fede-b6ff3044fc51"
      },
      "execution_count": null,
      "outputs": [
        {
          "output_type": "stream",
          "name": "stderr",
          "text": [
            "[nltk_data] Downloading package stopwords to /root/nltk_data...\n",
            "[nltk_data]   Unzipping corpora/stopwords.zip.\n",
            "[nltk_data] Downloading package wordnet to /root/nltk_data...\n"
          ]
        },
        {
          "output_type": "execute_result",
          "data": {
            "text/plain": [
              "True"
            ]
          },
          "metadata": {},
          "execution_count": 1
        }
      ]
    },
    {
      "cell_type": "markdown",
      "source": [
        "# Loading the data"
      ],
      "metadata": {
        "id": "1PsTZh2tlUmP"
      }
    },
    {
      "cell_type": "code",
      "source": [
        "from google.colab import drive\n",
        "drive.mount('/content/drive')"
      ],
      "metadata": {
        "colab": {
          "base_uri": "https://localhost:8080/"
        },
        "id": "8Q8UOnhLksoK",
        "outputId": "183f5aac-034d-40ba-f382-22bed6fdf692"
      },
      "execution_count": null,
      "outputs": [
        {
          "output_type": "stream",
          "name": "stdout",
          "text": [
            "Drive already mounted at /content/drive; to attempt to forcibly remount, call drive.mount(\"/content/drive\", force_remount=True).\n"
          ]
        }
      ]
    },
    {
      "cell_type": "code",
      "source": [
        "!unzip fakenews.zip"
      ],
      "metadata": {
        "colab": {
          "base_uri": "https://localhost:8080/"
        },
        "id": "jNxewK4alW4u",
        "outputId": "444b9274-e0ab-45e2-a110-7fbac4a292b5"
      },
      "execution_count": null,
      "outputs": [
        {
          "output_type": "stream",
          "name": "stdout",
          "text": [
            "Archive:  fakenews.zip\n",
            "  inflating: train.csv               \n"
          ]
        }
      ]
    },
    {
      "cell_type": "code",
      "source": [
        "df = pd.read_csv(\"train.csv\")\n",
        "df.head()"
      ],
      "metadata": {
        "colab": {
          "base_uri": "https://localhost:8080/",
          "height": 206
        },
        "id": "swwMMiRY4MPY",
        "outputId": "953657d4-f284-4365-b671-73957168f14c"
      },
      "execution_count": null,
      "outputs": [
        {
          "output_type": "execute_result",
          "data": {
            "text/plain": [
              "   id                                              title              author  \\\n",
              "0   0  House Dem Aide: We Didn’t Even See Comey’s Let...       Darrell Lucus   \n",
              "1   1  FLYNN: Hillary Clinton, Big Woman on Campus - ...     Daniel J. Flynn   \n",
              "2   2                  Why the Truth Might Get You Fired  Consortiumnews.com   \n",
              "3   3  15 Civilians Killed In Single US Airstrike Hav...     Jessica Purkiss   \n",
              "4   4  Iranian woman jailed for fictional unpublished...      Howard Portnoy   \n",
              "\n",
              "                                                text  label  \n",
              "0  House Dem Aide: We Didn’t Even See Comey’s Let...      1  \n",
              "1  Ever get the feeling your life circles the rou...      0  \n",
              "2  Why the Truth Might Get You Fired October 29, ...      1  \n",
              "3  Videos 15 Civilians Killed In Single US Airstr...      1  \n",
              "4  Print \\nAn Iranian woman has been sentenced to...      1  "
            ],
            "text/html": [
              "\n",
              "  <div id=\"df-6ae30252-85ab-4e3a-8e25-17b3369cab64\" class=\"colab-df-container\">\n",
              "    <div>\n",
              "<style scoped>\n",
              "    .dataframe tbody tr th:only-of-type {\n",
              "        vertical-align: middle;\n",
              "    }\n",
              "\n",
              "    .dataframe tbody tr th {\n",
              "        vertical-align: top;\n",
              "    }\n",
              "\n",
              "    .dataframe thead th {\n",
              "        text-align: right;\n",
              "    }\n",
              "</style>\n",
              "<table border=\"1\" class=\"dataframe\">\n",
              "  <thead>\n",
              "    <tr style=\"text-align: right;\">\n",
              "      <th></th>\n",
              "      <th>id</th>\n",
              "      <th>title</th>\n",
              "      <th>author</th>\n",
              "      <th>text</th>\n",
              "      <th>label</th>\n",
              "    </tr>\n",
              "  </thead>\n",
              "  <tbody>\n",
              "    <tr>\n",
              "      <th>0</th>\n",
              "      <td>0</td>\n",
              "      <td>House Dem Aide: We Didn’t Even See Comey’s Let...</td>\n",
              "      <td>Darrell Lucus</td>\n",
              "      <td>House Dem Aide: We Didn’t Even See Comey’s Let...</td>\n",
              "      <td>1</td>\n",
              "    </tr>\n",
              "    <tr>\n",
              "      <th>1</th>\n",
              "      <td>1</td>\n",
              "      <td>FLYNN: Hillary Clinton, Big Woman on Campus - ...</td>\n",
              "      <td>Daniel J. Flynn</td>\n",
              "      <td>Ever get the feeling your life circles the rou...</td>\n",
              "      <td>0</td>\n",
              "    </tr>\n",
              "    <tr>\n",
              "      <th>2</th>\n",
              "      <td>2</td>\n",
              "      <td>Why the Truth Might Get You Fired</td>\n",
              "      <td>Consortiumnews.com</td>\n",
              "      <td>Why the Truth Might Get You Fired October 29, ...</td>\n",
              "      <td>1</td>\n",
              "    </tr>\n",
              "    <tr>\n",
              "      <th>3</th>\n",
              "      <td>3</td>\n",
              "      <td>15 Civilians Killed In Single US Airstrike Hav...</td>\n",
              "      <td>Jessica Purkiss</td>\n",
              "      <td>Videos 15 Civilians Killed In Single US Airstr...</td>\n",
              "      <td>1</td>\n",
              "    </tr>\n",
              "    <tr>\n",
              "      <th>4</th>\n",
              "      <td>4</td>\n",
              "      <td>Iranian woman jailed for fictional unpublished...</td>\n",
              "      <td>Howard Portnoy</td>\n",
              "      <td>Print \\nAn Iranian woman has been sentenced to...</td>\n",
              "      <td>1</td>\n",
              "    </tr>\n",
              "  </tbody>\n",
              "</table>\n",
              "</div>\n",
              "    <div class=\"colab-df-buttons\">\n",
              "\n",
              "  <div class=\"colab-df-container\">\n",
              "    <button class=\"colab-df-convert\" onclick=\"convertToInteractive('df-6ae30252-85ab-4e3a-8e25-17b3369cab64')\"\n",
              "            title=\"Convert this dataframe to an interactive table.\"\n",
              "            style=\"display:none;\">\n",
              "\n",
              "  <svg xmlns=\"http://www.w3.org/2000/svg\" height=\"24px\" viewBox=\"0 -960 960 960\">\n",
              "    <path d=\"M120-120v-720h720v720H120Zm60-500h600v-160H180v160Zm220 220h160v-160H400v160Zm0 220h160v-160H400v160ZM180-400h160v-160H180v160Zm440 0h160v-160H620v160ZM180-180h160v-160H180v160Zm440 0h160v-160H620v160Z\"/>\n",
              "  </svg>\n",
              "    </button>\n",
              "\n",
              "  <style>\n",
              "    .colab-df-container {\n",
              "      display:flex;\n",
              "      gap: 12px;\n",
              "    }\n",
              "\n",
              "    .colab-df-convert {\n",
              "      background-color: #E8F0FE;\n",
              "      border: none;\n",
              "      border-radius: 50%;\n",
              "      cursor: pointer;\n",
              "      display: none;\n",
              "      fill: #1967D2;\n",
              "      height: 32px;\n",
              "      padding: 0 0 0 0;\n",
              "      width: 32px;\n",
              "    }\n",
              "\n",
              "    .colab-df-convert:hover {\n",
              "      background-color: #E2EBFA;\n",
              "      box-shadow: 0px 1px 2px rgba(60, 64, 67, 0.3), 0px 1px 3px 1px rgba(60, 64, 67, 0.15);\n",
              "      fill: #174EA6;\n",
              "    }\n",
              "\n",
              "    .colab-df-buttons div {\n",
              "      margin-bottom: 4px;\n",
              "    }\n",
              "\n",
              "    [theme=dark] .colab-df-convert {\n",
              "      background-color: #3B4455;\n",
              "      fill: #D2E3FC;\n",
              "    }\n",
              "\n",
              "    [theme=dark] .colab-df-convert:hover {\n",
              "      background-color: #434B5C;\n",
              "      box-shadow: 0px 1px 3px 1px rgba(0, 0, 0, 0.15);\n",
              "      filter: drop-shadow(0px 1px 2px rgba(0, 0, 0, 0.3));\n",
              "      fill: #FFFFFF;\n",
              "    }\n",
              "  </style>\n",
              "\n",
              "    <script>\n",
              "      const buttonEl =\n",
              "        document.querySelector('#df-6ae30252-85ab-4e3a-8e25-17b3369cab64 button.colab-df-convert');\n",
              "      buttonEl.style.display =\n",
              "        google.colab.kernel.accessAllowed ? 'block' : 'none';\n",
              "\n",
              "      async function convertToInteractive(key) {\n",
              "        const element = document.querySelector('#df-6ae30252-85ab-4e3a-8e25-17b3369cab64');\n",
              "        const dataTable =\n",
              "          await google.colab.kernel.invokeFunction('convertToInteractive',\n",
              "                                                    [key], {});\n",
              "        if (!dataTable) return;\n",
              "\n",
              "        const docLinkHtml = 'Like what you see? Visit the ' +\n",
              "          '<a target=\"_blank\" href=https://colab.research.google.com/notebooks/data_table.ipynb>data table notebook</a>'\n",
              "          + ' to learn more about interactive tables.';\n",
              "        element.innerHTML = '';\n",
              "        dataTable['output_type'] = 'display_data';\n",
              "        await google.colab.output.renderOutput(dataTable, element);\n",
              "        const docLink = document.createElement('div');\n",
              "        docLink.innerHTML = docLinkHtml;\n",
              "        element.appendChild(docLink);\n",
              "      }\n",
              "    </script>\n",
              "  </div>\n",
              "\n",
              "\n",
              "<div id=\"df-95dfe395-555b-43e2-b9d0-6fc03eb659e9\">\n",
              "  <button class=\"colab-df-quickchart\" onclick=\"quickchart('df-95dfe395-555b-43e2-b9d0-6fc03eb659e9')\"\n",
              "            title=\"Suggest charts.\"\n",
              "            style=\"display:none;\">\n",
              "\n",
              "<svg xmlns=\"http://www.w3.org/2000/svg\" height=\"24px\"viewBox=\"0 0 24 24\"\n",
              "     width=\"24px\">\n",
              "    <g>\n",
              "        <path d=\"M19 3H5c-1.1 0-2 .9-2 2v14c0 1.1.9 2 2 2h14c1.1 0 2-.9 2-2V5c0-1.1-.9-2-2-2zM9 17H7v-7h2v7zm4 0h-2V7h2v10zm4 0h-2v-4h2v4z\"/>\n",
              "    </g>\n",
              "</svg>\n",
              "  </button>\n",
              "\n",
              "<style>\n",
              "  .colab-df-quickchart {\n",
              "    background-color: #E8F0FE;\n",
              "    border: none;\n",
              "    border-radius: 50%;\n",
              "    cursor: pointer;\n",
              "    display: none;\n",
              "    fill: #1967D2;\n",
              "    height: 32px;\n",
              "    padding: 0 0 0 0;\n",
              "    width: 32px;\n",
              "  }\n",
              "\n",
              "  .colab-df-quickchart:hover {\n",
              "    background-color: #E2EBFA;\n",
              "    box-shadow: 0px 1px 2px rgba(60, 64, 67, 0.3), 0px 1px 3px 1px rgba(60, 64, 67, 0.15);\n",
              "    fill: #174EA6;\n",
              "  }\n",
              "\n",
              "  [theme=dark] .colab-df-quickchart {\n",
              "    background-color: #3B4455;\n",
              "    fill: #D2E3FC;\n",
              "  }\n",
              "\n",
              "  [theme=dark] .colab-df-quickchart:hover {\n",
              "    background-color: #434B5C;\n",
              "    box-shadow: 0px 1px 3px 1px rgba(0, 0, 0, 0.15);\n",
              "    filter: drop-shadow(0px 1px 2px rgba(0, 0, 0, 0.3));\n",
              "    fill: #FFFFFF;\n",
              "  }\n",
              "</style>\n",
              "\n",
              "  <script>\n",
              "    async function quickchart(key) {\n",
              "      const charts = await google.colab.kernel.invokeFunction(\n",
              "          'suggestCharts', [key], {});\n",
              "    }\n",
              "    (() => {\n",
              "      let quickchartButtonEl =\n",
              "        document.querySelector('#df-95dfe395-555b-43e2-b9d0-6fc03eb659e9 button');\n",
              "      quickchartButtonEl.style.display =\n",
              "        google.colab.kernel.accessAllowed ? 'block' : 'none';\n",
              "    })();\n",
              "  </script>\n",
              "</div>\n",
              "    </div>\n",
              "  </div>\n"
            ]
          },
          "metadata": {},
          "execution_count": 10
        }
      ]
    },
    {
      "cell_type": "markdown",
      "source": [
        "# Performing some basic EDA"
      ],
      "metadata": {
        "id": "eR5N0Qxp46AX"
      }
    },
    {
      "cell_type": "code",
      "source": [
        "df.info()"
      ],
      "metadata": {
        "colab": {
          "base_uri": "https://localhost:8080/"
        },
        "id": "0sWPEcmZ4tnq",
        "outputId": "446b8a3e-0a49-4e72-c896-6c927744b306"
      },
      "execution_count": null,
      "outputs": [
        {
          "output_type": "stream",
          "name": "stdout",
          "text": [
            "<class 'pandas.core.frame.DataFrame'>\n",
            "RangeIndex: 20800 entries, 0 to 20799\n",
            "Data columns (total 5 columns):\n",
            " #   Column  Non-Null Count  Dtype \n",
            "---  ------  --------------  ----- \n",
            " 0   id      20800 non-null  int64 \n",
            " 1   title   20242 non-null  object\n",
            " 2   author  18843 non-null  object\n",
            " 3   text    20761 non-null  object\n",
            " 4   label   20800 non-null  int64 \n",
            "dtypes: int64(2), object(3)\n",
            "memory usage: 812.6+ KB\n"
          ]
        }
      ]
    },
    {
      "cell_type": "code",
      "source": [
        "df.isnull().sum()"
      ],
      "metadata": {
        "colab": {
          "base_uri": "https://localhost:8080/"
        },
        "id": "kxUTzGgPQnQm",
        "outputId": "37eab31e-6408-4ee8-b4ef-6c873bc2b7ad"
      },
      "execution_count": null,
      "outputs": [
        {
          "output_type": "execute_result",
          "data": {
            "text/plain": [
              "id        0\n",
              "title     0\n",
              "author    0\n",
              "text      0\n",
              "label     0\n",
              "dtype: int64"
            ]
          },
          "metadata": {},
          "execution_count": 17
        }
      ]
    },
    {
      "cell_type": "code",
      "source": [
        "# remove all the rows having null values\n",
        "df.dropna(inplace=True)"
      ],
      "metadata": {
        "id": "gNzCBc1qQsEV"
      },
      "execution_count": null,
      "outputs": []
    },
    {
      "cell_type": "code",
      "source": [
        "df"
      ],
      "metadata": {
        "colab": {
          "base_uri": "https://localhost:8080/",
          "height": 424
        },
        "id": "zo3hClzXXV5P",
        "outputId": "f44a6f24-689f-48ee-b632-0135a5213a55"
      },
      "execution_count": null,
      "outputs": [
        {
          "output_type": "execute_result",
          "data": {
            "text/plain": [
              "          id                                              title  \\\n",
              "0          0  House Dem Aide: We Didn’t Even See Comey’s Let...   \n",
              "1          1  FLYNN: Hillary Clinton, Big Woman on Campus - ...   \n",
              "2          2                  Why the Truth Might Get You Fired   \n",
              "3          3  15 Civilians Killed In Single US Airstrike Hav...   \n",
              "4          4  Iranian woman jailed for fictional unpublished...   \n",
              "...      ...                                                ...   \n",
              "20795  20795  Rapper T.I.: Trump a ’Poster Child For White S...   \n",
              "20796  20796  N.F.L. Playoffs: Schedule, Matchups and Odds -...   \n",
              "20797  20797  Macy’s Is Said to Receive Takeover Approach by...   \n",
              "20798  20798  NATO, Russia To Hold Parallel Exercises In Bal...   \n",
              "20799  20799                          What Keeps the F-35 Alive   \n",
              "\n",
              "                                          author  \\\n",
              "0                                  Darrell Lucus   \n",
              "1                                Daniel J. Flynn   \n",
              "2                             Consortiumnews.com   \n",
              "3                                Jessica Purkiss   \n",
              "4                                 Howard Portnoy   \n",
              "...                                          ...   \n",
              "20795                              Jerome Hudson   \n",
              "20796                           Benjamin Hoffman   \n",
              "20797  Michael J. de la Merced and Rachel Abrams   \n",
              "20798                                Alex Ansary   \n",
              "20799                              David Swanson   \n",
              "\n",
              "                                                    text  label  \n",
              "0      House Dem Aide: We Didn’t Even See Comey’s Let...      1  \n",
              "1      Ever get the feeling your life circles the rou...      0  \n",
              "2      Why the Truth Might Get You Fired October 29, ...      1  \n",
              "3      Videos 15 Civilians Killed In Single US Airstr...      1  \n",
              "4      Print \\nAn Iranian woman has been sentenced to...      1  \n",
              "...                                                  ...    ...  \n",
              "20795  Rapper T. I. unloaded on black celebrities who...      0  \n",
              "20796  When the Green Bay Packers lost to the Washing...      0  \n",
              "20797  The Macy’s of today grew from the union of sev...      0  \n",
              "20798  NATO, Russia To Hold Parallel Exercises In Bal...      1  \n",
              "20799    David Swanson is an author, activist, journa...      1  \n",
              "\n",
              "[18285 rows x 5 columns]"
            ],
            "text/html": [
              "\n",
              "  <div id=\"df-3fa57ff1-6713-4839-bc72-de42f3e567b1\" class=\"colab-df-container\">\n",
              "    <div>\n",
              "<style scoped>\n",
              "    .dataframe tbody tr th:only-of-type {\n",
              "        vertical-align: middle;\n",
              "    }\n",
              "\n",
              "    .dataframe tbody tr th {\n",
              "        vertical-align: top;\n",
              "    }\n",
              "\n",
              "    .dataframe thead th {\n",
              "        text-align: right;\n",
              "    }\n",
              "</style>\n",
              "<table border=\"1\" class=\"dataframe\">\n",
              "  <thead>\n",
              "    <tr style=\"text-align: right;\">\n",
              "      <th></th>\n",
              "      <th>id</th>\n",
              "      <th>title</th>\n",
              "      <th>author</th>\n",
              "      <th>text</th>\n",
              "      <th>label</th>\n",
              "    </tr>\n",
              "  </thead>\n",
              "  <tbody>\n",
              "    <tr>\n",
              "      <th>0</th>\n",
              "      <td>0</td>\n",
              "      <td>House Dem Aide: We Didn’t Even See Comey’s Let...</td>\n",
              "      <td>Darrell Lucus</td>\n",
              "      <td>House Dem Aide: We Didn’t Even See Comey’s Let...</td>\n",
              "      <td>1</td>\n",
              "    </tr>\n",
              "    <tr>\n",
              "      <th>1</th>\n",
              "      <td>1</td>\n",
              "      <td>FLYNN: Hillary Clinton, Big Woman on Campus - ...</td>\n",
              "      <td>Daniel J. Flynn</td>\n",
              "      <td>Ever get the feeling your life circles the rou...</td>\n",
              "      <td>0</td>\n",
              "    </tr>\n",
              "    <tr>\n",
              "      <th>2</th>\n",
              "      <td>2</td>\n",
              "      <td>Why the Truth Might Get You Fired</td>\n",
              "      <td>Consortiumnews.com</td>\n",
              "      <td>Why the Truth Might Get You Fired October 29, ...</td>\n",
              "      <td>1</td>\n",
              "    </tr>\n",
              "    <tr>\n",
              "      <th>3</th>\n",
              "      <td>3</td>\n",
              "      <td>15 Civilians Killed In Single US Airstrike Hav...</td>\n",
              "      <td>Jessica Purkiss</td>\n",
              "      <td>Videos 15 Civilians Killed In Single US Airstr...</td>\n",
              "      <td>1</td>\n",
              "    </tr>\n",
              "    <tr>\n",
              "      <th>4</th>\n",
              "      <td>4</td>\n",
              "      <td>Iranian woman jailed for fictional unpublished...</td>\n",
              "      <td>Howard Portnoy</td>\n",
              "      <td>Print \\nAn Iranian woman has been sentenced to...</td>\n",
              "      <td>1</td>\n",
              "    </tr>\n",
              "    <tr>\n",
              "      <th>...</th>\n",
              "      <td>...</td>\n",
              "      <td>...</td>\n",
              "      <td>...</td>\n",
              "      <td>...</td>\n",
              "      <td>...</td>\n",
              "    </tr>\n",
              "    <tr>\n",
              "      <th>20795</th>\n",
              "      <td>20795</td>\n",
              "      <td>Rapper T.I.: Trump a ’Poster Child For White S...</td>\n",
              "      <td>Jerome Hudson</td>\n",
              "      <td>Rapper T. I. unloaded on black celebrities who...</td>\n",
              "      <td>0</td>\n",
              "    </tr>\n",
              "    <tr>\n",
              "      <th>20796</th>\n",
              "      <td>20796</td>\n",
              "      <td>N.F.L. Playoffs: Schedule, Matchups and Odds -...</td>\n",
              "      <td>Benjamin Hoffman</td>\n",
              "      <td>When the Green Bay Packers lost to the Washing...</td>\n",
              "      <td>0</td>\n",
              "    </tr>\n",
              "    <tr>\n",
              "      <th>20797</th>\n",
              "      <td>20797</td>\n",
              "      <td>Macy’s Is Said to Receive Takeover Approach by...</td>\n",
              "      <td>Michael J. de la Merced and Rachel Abrams</td>\n",
              "      <td>The Macy’s of today grew from the union of sev...</td>\n",
              "      <td>0</td>\n",
              "    </tr>\n",
              "    <tr>\n",
              "      <th>20798</th>\n",
              "      <td>20798</td>\n",
              "      <td>NATO, Russia To Hold Parallel Exercises In Bal...</td>\n",
              "      <td>Alex Ansary</td>\n",
              "      <td>NATO, Russia To Hold Parallel Exercises In Bal...</td>\n",
              "      <td>1</td>\n",
              "    </tr>\n",
              "    <tr>\n",
              "      <th>20799</th>\n",
              "      <td>20799</td>\n",
              "      <td>What Keeps the F-35 Alive</td>\n",
              "      <td>David Swanson</td>\n",
              "      <td>David Swanson is an author, activist, journa...</td>\n",
              "      <td>1</td>\n",
              "    </tr>\n",
              "  </tbody>\n",
              "</table>\n",
              "<p>18285 rows × 5 columns</p>\n",
              "</div>\n",
              "    <div class=\"colab-df-buttons\">\n",
              "\n",
              "  <div class=\"colab-df-container\">\n",
              "    <button class=\"colab-df-convert\" onclick=\"convertToInteractive('df-3fa57ff1-6713-4839-bc72-de42f3e567b1')\"\n",
              "            title=\"Convert this dataframe to an interactive table.\"\n",
              "            style=\"display:none;\">\n",
              "\n",
              "  <svg xmlns=\"http://www.w3.org/2000/svg\" height=\"24px\" viewBox=\"0 -960 960 960\">\n",
              "    <path d=\"M120-120v-720h720v720H120Zm60-500h600v-160H180v160Zm220 220h160v-160H400v160Zm0 220h160v-160H400v160ZM180-400h160v-160H180v160Zm440 0h160v-160H620v160ZM180-180h160v-160H180v160Zm440 0h160v-160H620v160Z\"/>\n",
              "  </svg>\n",
              "    </button>\n",
              "\n",
              "  <style>\n",
              "    .colab-df-container {\n",
              "      display:flex;\n",
              "      gap: 12px;\n",
              "    }\n",
              "\n",
              "    .colab-df-convert {\n",
              "      background-color: #E8F0FE;\n",
              "      border: none;\n",
              "      border-radius: 50%;\n",
              "      cursor: pointer;\n",
              "      display: none;\n",
              "      fill: #1967D2;\n",
              "      height: 32px;\n",
              "      padding: 0 0 0 0;\n",
              "      width: 32px;\n",
              "    }\n",
              "\n",
              "    .colab-df-convert:hover {\n",
              "      background-color: #E2EBFA;\n",
              "      box-shadow: 0px 1px 2px rgba(60, 64, 67, 0.3), 0px 1px 3px 1px rgba(60, 64, 67, 0.15);\n",
              "      fill: #174EA6;\n",
              "    }\n",
              "\n",
              "    .colab-df-buttons div {\n",
              "      margin-bottom: 4px;\n",
              "    }\n",
              "\n",
              "    [theme=dark] .colab-df-convert {\n",
              "      background-color: #3B4455;\n",
              "      fill: #D2E3FC;\n",
              "    }\n",
              "\n",
              "    [theme=dark] .colab-df-convert:hover {\n",
              "      background-color: #434B5C;\n",
              "      box-shadow: 0px 1px 3px 1px rgba(0, 0, 0, 0.15);\n",
              "      filter: drop-shadow(0px 1px 2px rgba(0, 0, 0, 0.3));\n",
              "      fill: #FFFFFF;\n",
              "    }\n",
              "  </style>\n",
              "\n",
              "    <script>\n",
              "      const buttonEl =\n",
              "        document.querySelector('#df-3fa57ff1-6713-4839-bc72-de42f3e567b1 button.colab-df-convert');\n",
              "      buttonEl.style.display =\n",
              "        google.colab.kernel.accessAllowed ? 'block' : 'none';\n",
              "\n",
              "      async function convertToInteractive(key) {\n",
              "        const element = document.querySelector('#df-3fa57ff1-6713-4839-bc72-de42f3e567b1');\n",
              "        const dataTable =\n",
              "          await google.colab.kernel.invokeFunction('convertToInteractive',\n",
              "                                                    [key], {});\n",
              "        if (!dataTable) return;\n",
              "\n",
              "        const docLinkHtml = 'Like what you see? Visit the ' +\n",
              "          '<a target=\"_blank\" href=https://colab.research.google.com/notebooks/data_table.ipynb>data table notebook</a>'\n",
              "          + ' to learn more about interactive tables.';\n",
              "        element.innerHTML = '';\n",
              "        dataTable['output_type'] = 'display_data';\n",
              "        await google.colab.output.renderOutput(dataTable, element);\n",
              "        const docLink = document.createElement('div');\n",
              "        docLink.innerHTML = docLinkHtml;\n",
              "        element.appendChild(docLink);\n",
              "      }\n",
              "    </script>\n",
              "  </div>\n",
              "\n",
              "\n",
              "<div id=\"df-24638fd8-4195-480f-aae2-9bd056fe5c41\">\n",
              "  <button class=\"colab-df-quickchart\" onclick=\"quickchart('df-24638fd8-4195-480f-aae2-9bd056fe5c41')\"\n",
              "            title=\"Suggest charts.\"\n",
              "            style=\"display:none;\">\n",
              "\n",
              "<svg xmlns=\"http://www.w3.org/2000/svg\" height=\"24px\"viewBox=\"0 0 24 24\"\n",
              "     width=\"24px\">\n",
              "    <g>\n",
              "        <path d=\"M19 3H5c-1.1 0-2 .9-2 2v14c0 1.1.9 2 2 2h14c1.1 0 2-.9 2-2V5c0-1.1-.9-2-2-2zM9 17H7v-7h2v7zm4 0h-2V7h2v10zm4 0h-2v-4h2v4z\"/>\n",
              "    </g>\n",
              "</svg>\n",
              "  </button>\n",
              "\n",
              "<style>\n",
              "  .colab-df-quickchart {\n",
              "    background-color: #E8F0FE;\n",
              "    border: none;\n",
              "    border-radius: 50%;\n",
              "    cursor: pointer;\n",
              "    display: none;\n",
              "    fill: #1967D2;\n",
              "    height: 32px;\n",
              "    padding: 0 0 0 0;\n",
              "    width: 32px;\n",
              "  }\n",
              "\n",
              "  .colab-df-quickchart:hover {\n",
              "    background-color: #E2EBFA;\n",
              "    box-shadow: 0px 1px 2px rgba(60, 64, 67, 0.3), 0px 1px 3px 1px rgba(60, 64, 67, 0.15);\n",
              "    fill: #174EA6;\n",
              "  }\n",
              "\n",
              "  [theme=dark] .colab-df-quickchart {\n",
              "    background-color: #3B4455;\n",
              "    fill: #D2E3FC;\n",
              "  }\n",
              "\n",
              "  [theme=dark] .colab-df-quickchart:hover {\n",
              "    background-color: #434B5C;\n",
              "    box-shadow: 0px 1px 3px 1px rgba(0, 0, 0, 0.15);\n",
              "    filter: drop-shadow(0px 1px 2px rgba(0, 0, 0, 0.3));\n",
              "    fill: #FFFFFF;\n",
              "  }\n",
              "</style>\n",
              "\n",
              "  <script>\n",
              "    async function quickchart(key) {\n",
              "      const charts = await google.colab.kernel.invokeFunction(\n",
              "          'suggestCharts', [key], {});\n",
              "    }\n",
              "    (() => {\n",
              "      let quickchartButtonEl =\n",
              "        document.querySelector('#df-24638fd8-4195-480f-aae2-9bd056fe5c41 button');\n",
              "      quickchartButtonEl.style.display =\n",
              "        google.colab.kernel.accessAllowed ? 'block' : 'none';\n",
              "    })();\n",
              "  </script>\n",
              "</div>\n",
              "    </div>\n",
              "  </div>\n"
            ]
          },
          "metadata": {},
          "execution_count": 19
        }
      ]
    },
    {
      "cell_type": "code",
      "source": [
        "df.isnull().sum()"
      ],
      "metadata": {
        "colab": {
          "base_uri": "https://localhost:8080/"
        },
        "id": "G1Dc9TsYXWXb",
        "outputId": "7424a806-2997-44e9-b83c-1c8ea138cbc7"
      },
      "execution_count": null,
      "outputs": [
        {
          "output_type": "execute_result",
          "data": {
            "text/plain": [
              "id        0\n",
              "title     0\n",
              "author    0\n",
              "text      0\n",
              "label     0\n",
              "dtype: int64"
            ]
          },
          "metadata": {},
          "execution_count": 26
        }
      ]
    },
    {
      "cell_type": "code",
      "source": [
        "x = df[['title', 'author', 'text']]\n",
        "y = df['label']"
      ],
      "metadata": {
        "id": "kworAjuUXweT"
      },
      "execution_count": null,
      "outputs": []
    },
    {
      "cell_type": "code",
      "source": [
        "x.reset_index()"
      ],
      "metadata": {
        "colab": {
          "base_uri": "https://localhost:8080/",
          "height": 424
        },
        "id": "nP6CBgWvutWb",
        "outputId": "94024de7-23e4-4764-ff68-c5203ecca4ae"
      },
      "execution_count": null,
      "outputs": [
        {
          "output_type": "execute_result",
          "data": {
            "text/plain": [
              "       index                                              title  \\\n",
              "0          0  House Dem Aide: We Didn’t Even See Comey’s Let...   \n",
              "1          1  FLYNN: Hillary Clinton, Big Woman on Campus - ...   \n",
              "2          2                  Why the Truth Might Get You Fired   \n",
              "3          3  15 Civilians Killed In Single US Airstrike Hav...   \n",
              "4          4  Iranian woman jailed for fictional unpublished...   \n",
              "...      ...                                                ...   \n",
              "18280  20795  Rapper T.I.: Trump a ’Poster Child For White S...   \n",
              "18281  20796  N.F.L. Playoffs: Schedule, Matchups and Odds -...   \n",
              "18282  20797  Macy’s Is Said to Receive Takeover Approach by...   \n",
              "18283  20798  NATO, Russia To Hold Parallel Exercises In Bal...   \n",
              "18284  20799                          What Keeps the F-35 Alive   \n",
              "\n",
              "                                          author  \\\n",
              "0                                  Darrell Lucus   \n",
              "1                                Daniel J. Flynn   \n",
              "2                             Consortiumnews.com   \n",
              "3                                Jessica Purkiss   \n",
              "4                                 Howard Portnoy   \n",
              "...                                          ...   \n",
              "18280                              Jerome Hudson   \n",
              "18281                           Benjamin Hoffman   \n",
              "18282  Michael J. de la Merced and Rachel Abrams   \n",
              "18283                                Alex Ansary   \n",
              "18284                              David Swanson   \n",
              "\n",
              "                                                    text  \n",
              "0      House Dem Aide: We Didn’t Even See Comey’s Let...  \n",
              "1      Ever get the feeling your life circles the rou...  \n",
              "2      Why the Truth Might Get You Fired October 29, ...  \n",
              "3      Videos 15 Civilians Killed In Single US Airstr...  \n",
              "4      Print \\nAn Iranian woman has been sentenced to...  \n",
              "...                                                  ...  \n",
              "18280  Rapper T. I. unloaded on black celebrities who...  \n",
              "18281  When the Green Bay Packers lost to the Washing...  \n",
              "18282  The Macy’s of today grew from the union of sev...  \n",
              "18283  NATO, Russia To Hold Parallel Exercises In Bal...  \n",
              "18284    David Swanson is an author, activist, journa...  \n",
              "\n",
              "[18285 rows x 4 columns]"
            ],
            "text/html": [
              "\n",
              "  <div id=\"df-831f3ef1-3d58-451c-bdd5-64799649f0bb\" class=\"colab-df-container\">\n",
              "    <div>\n",
              "<style scoped>\n",
              "    .dataframe tbody tr th:only-of-type {\n",
              "        vertical-align: middle;\n",
              "    }\n",
              "\n",
              "    .dataframe tbody tr th {\n",
              "        vertical-align: top;\n",
              "    }\n",
              "\n",
              "    .dataframe thead th {\n",
              "        text-align: right;\n",
              "    }\n",
              "</style>\n",
              "<table border=\"1\" class=\"dataframe\">\n",
              "  <thead>\n",
              "    <tr style=\"text-align: right;\">\n",
              "      <th></th>\n",
              "      <th>index</th>\n",
              "      <th>title</th>\n",
              "      <th>author</th>\n",
              "      <th>text</th>\n",
              "    </tr>\n",
              "  </thead>\n",
              "  <tbody>\n",
              "    <tr>\n",
              "      <th>0</th>\n",
              "      <td>0</td>\n",
              "      <td>House Dem Aide: We Didn’t Even See Comey’s Let...</td>\n",
              "      <td>Darrell Lucus</td>\n",
              "      <td>House Dem Aide: We Didn’t Even See Comey’s Let...</td>\n",
              "    </tr>\n",
              "    <tr>\n",
              "      <th>1</th>\n",
              "      <td>1</td>\n",
              "      <td>FLYNN: Hillary Clinton, Big Woman on Campus - ...</td>\n",
              "      <td>Daniel J. Flynn</td>\n",
              "      <td>Ever get the feeling your life circles the rou...</td>\n",
              "    </tr>\n",
              "    <tr>\n",
              "      <th>2</th>\n",
              "      <td>2</td>\n",
              "      <td>Why the Truth Might Get You Fired</td>\n",
              "      <td>Consortiumnews.com</td>\n",
              "      <td>Why the Truth Might Get You Fired October 29, ...</td>\n",
              "    </tr>\n",
              "    <tr>\n",
              "      <th>3</th>\n",
              "      <td>3</td>\n",
              "      <td>15 Civilians Killed In Single US Airstrike Hav...</td>\n",
              "      <td>Jessica Purkiss</td>\n",
              "      <td>Videos 15 Civilians Killed In Single US Airstr...</td>\n",
              "    </tr>\n",
              "    <tr>\n",
              "      <th>4</th>\n",
              "      <td>4</td>\n",
              "      <td>Iranian woman jailed for fictional unpublished...</td>\n",
              "      <td>Howard Portnoy</td>\n",
              "      <td>Print \\nAn Iranian woman has been sentenced to...</td>\n",
              "    </tr>\n",
              "    <tr>\n",
              "      <th>...</th>\n",
              "      <td>...</td>\n",
              "      <td>...</td>\n",
              "      <td>...</td>\n",
              "      <td>...</td>\n",
              "    </tr>\n",
              "    <tr>\n",
              "      <th>18280</th>\n",
              "      <td>20795</td>\n",
              "      <td>Rapper T.I.: Trump a ’Poster Child For White S...</td>\n",
              "      <td>Jerome Hudson</td>\n",
              "      <td>Rapper T. I. unloaded on black celebrities who...</td>\n",
              "    </tr>\n",
              "    <tr>\n",
              "      <th>18281</th>\n",
              "      <td>20796</td>\n",
              "      <td>N.F.L. Playoffs: Schedule, Matchups and Odds -...</td>\n",
              "      <td>Benjamin Hoffman</td>\n",
              "      <td>When the Green Bay Packers lost to the Washing...</td>\n",
              "    </tr>\n",
              "    <tr>\n",
              "      <th>18282</th>\n",
              "      <td>20797</td>\n",
              "      <td>Macy’s Is Said to Receive Takeover Approach by...</td>\n",
              "      <td>Michael J. de la Merced and Rachel Abrams</td>\n",
              "      <td>The Macy’s of today grew from the union of sev...</td>\n",
              "    </tr>\n",
              "    <tr>\n",
              "      <th>18283</th>\n",
              "      <td>20798</td>\n",
              "      <td>NATO, Russia To Hold Parallel Exercises In Bal...</td>\n",
              "      <td>Alex Ansary</td>\n",
              "      <td>NATO, Russia To Hold Parallel Exercises In Bal...</td>\n",
              "    </tr>\n",
              "    <tr>\n",
              "      <th>18284</th>\n",
              "      <td>20799</td>\n",
              "      <td>What Keeps the F-35 Alive</td>\n",
              "      <td>David Swanson</td>\n",
              "      <td>David Swanson is an author, activist, journa...</td>\n",
              "    </tr>\n",
              "  </tbody>\n",
              "</table>\n",
              "<p>18285 rows × 4 columns</p>\n",
              "</div>\n",
              "    <div class=\"colab-df-buttons\">\n",
              "\n",
              "  <div class=\"colab-df-container\">\n",
              "    <button class=\"colab-df-convert\" onclick=\"convertToInteractive('df-831f3ef1-3d58-451c-bdd5-64799649f0bb')\"\n",
              "            title=\"Convert this dataframe to an interactive table.\"\n",
              "            style=\"display:none;\">\n",
              "\n",
              "  <svg xmlns=\"http://www.w3.org/2000/svg\" height=\"24px\" viewBox=\"0 -960 960 960\">\n",
              "    <path d=\"M120-120v-720h720v720H120Zm60-500h600v-160H180v160Zm220 220h160v-160H400v160Zm0 220h160v-160H400v160ZM180-400h160v-160H180v160Zm440 0h160v-160H620v160ZM180-180h160v-160H180v160Zm440 0h160v-160H620v160Z\"/>\n",
              "  </svg>\n",
              "    </button>\n",
              "\n",
              "  <style>\n",
              "    .colab-df-container {\n",
              "      display:flex;\n",
              "      gap: 12px;\n",
              "    }\n",
              "\n",
              "    .colab-df-convert {\n",
              "      background-color: #E8F0FE;\n",
              "      border: none;\n",
              "      border-radius: 50%;\n",
              "      cursor: pointer;\n",
              "      display: none;\n",
              "      fill: #1967D2;\n",
              "      height: 32px;\n",
              "      padding: 0 0 0 0;\n",
              "      width: 32px;\n",
              "    }\n",
              "\n",
              "    .colab-df-convert:hover {\n",
              "      background-color: #E2EBFA;\n",
              "      box-shadow: 0px 1px 2px rgba(60, 64, 67, 0.3), 0px 1px 3px 1px rgba(60, 64, 67, 0.15);\n",
              "      fill: #174EA6;\n",
              "    }\n",
              "\n",
              "    .colab-df-buttons div {\n",
              "      margin-bottom: 4px;\n",
              "    }\n",
              "\n",
              "    [theme=dark] .colab-df-convert {\n",
              "      background-color: #3B4455;\n",
              "      fill: #D2E3FC;\n",
              "    }\n",
              "\n",
              "    [theme=dark] .colab-df-convert:hover {\n",
              "      background-color: #434B5C;\n",
              "      box-shadow: 0px 1px 3px 1px rgba(0, 0, 0, 0.15);\n",
              "      filter: drop-shadow(0px 1px 2px rgba(0, 0, 0, 0.3));\n",
              "      fill: #FFFFFF;\n",
              "    }\n",
              "  </style>\n",
              "\n",
              "    <script>\n",
              "      const buttonEl =\n",
              "        document.querySelector('#df-831f3ef1-3d58-451c-bdd5-64799649f0bb button.colab-df-convert');\n",
              "      buttonEl.style.display =\n",
              "        google.colab.kernel.accessAllowed ? 'block' : 'none';\n",
              "\n",
              "      async function convertToInteractive(key) {\n",
              "        const element = document.querySelector('#df-831f3ef1-3d58-451c-bdd5-64799649f0bb');\n",
              "        const dataTable =\n",
              "          await google.colab.kernel.invokeFunction('convertToInteractive',\n",
              "                                                    [key], {});\n",
              "        if (!dataTable) return;\n",
              "\n",
              "        const docLinkHtml = 'Like what you see? Visit the ' +\n",
              "          '<a target=\"_blank\" href=https://colab.research.google.com/notebooks/data_table.ipynb>data table notebook</a>'\n",
              "          + ' to learn more about interactive tables.';\n",
              "        element.innerHTML = '';\n",
              "        dataTable['output_type'] = 'display_data';\n",
              "        await google.colab.output.renderOutput(dataTable, element);\n",
              "        const docLink = document.createElement('div');\n",
              "        docLink.innerHTML = docLinkHtml;\n",
              "        element.appendChild(docLink);\n",
              "      }\n",
              "    </script>\n",
              "  </div>\n",
              "\n",
              "\n",
              "<div id=\"df-efd99c4f-8006-462e-b8c0-5479a749c895\">\n",
              "  <button class=\"colab-df-quickchart\" onclick=\"quickchart('df-efd99c4f-8006-462e-b8c0-5479a749c895')\"\n",
              "            title=\"Suggest charts.\"\n",
              "            style=\"display:none;\">\n",
              "\n",
              "<svg xmlns=\"http://www.w3.org/2000/svg\" height=\"24px\"viewBox=\"0 0 24 24\"\n",
              "     width=\"24px\">\n",
              "    <g>\n",
              "        <path d=\"M19 3H5c-1.1 0-2 .9-2 2v14c0 1.1.9 2 2 2h14c1.1 0 2-.9 2-2V5c0-1.1-.9-2-2-2zM9 17H7v-7h2v7zm4 0h-2V7h2v10zm4 0h-2v-4h2v4z\"/>\n",
              "    </g>\n",
              "</svg>\n",
              "  </button>\n",
              "\n",
              "<style>\n",
              "  .colab-df-quickchart {\n",
              "    background-color: #E8F0FE;\n",
              "    border: none;\n",
              "    border-radius: 50%;\n",
              "    cursor: pointer;\n",
              "    display: none;\n",
              "    fill: #1967D2;\n",
              "    height: 32px;\n",
              "    padding: 0 0 0 0;\n",
              "    width: 32px;\n",
              "  }\n",
              "\n",
              "  .colab-df-quickchart:hover {\n",
              "    background-color: #E2EBFA;\n",
              "    box-shadow: 0px 1px 2px rgba(60, 64, 67, 0.3), 0px 1px 3px 1px rgba(60, 64, 67, 0.15);\n",
              "    fill: #174EA6;\n",
              "  }\n",
              "\n",
              "  [theme=dark] .colab-df-quickchart {\n",
              "    background-color: #3B4455;\n",
              "    fill: #D2E3FC;\n",
              "  }\n",
              "\n",
              "  [theme=dark] .colab-df-quickchart:hover {\n",
              "    background-color: #434B5C;\n",
              "    box-shadow: 0px 1px 3px 1px rgba(0, 0, 0, 0.15);\n",
              "    filter: drop-shadow(0px 1px 2px rgba(0, 0, 0, 0.3));\n",
              "    fill: #FFFFFF;\n",
              "  }\n",
              "</style>\n",
              "\n",
              "  <script>\n",
              "    async function quickchart(key) {\n",
              "      const charts = await google.colab.kernel.invokeFunction(\n",
              "          'suggestCharts', [key], {});\n",
              "    }\n",
              "    (() => {\n",
              "      let quickchartButtonEl =\n",
              "        document.querySelector('#df-efd99c4f-8006-462e-b8c0-5479a749c895 button');\n",
              "      quickchartButtonEl.style.display =\n",
              "        google.colab.kernel.accessAllowed ? 'block' : 'none';\n",
              "    })();\n",
              "  </script>\n",
              "</div>\n",
              "    </div>\n",
              "  </div>\n"
            ]
          },
          "metadata": {},
          "execution_count": 38
        }
      ]
    },
    {
      "cell_type": "code",
      "source": [
        "y=y.reset_index()"
      ],
      "metadata": {
        "id": "GXVlbcgAzS_A"
      },
      "execution_count": null,
      "outputs": []
    },
    {
      "cell_type": "code",
      "source": [
        "y=y['label']"
      ],
      "metadata": {
        "id": "LVMw3pBG-vkU"
      },
      "execution_count": null,
      "outputs": []
    },
    {
      "cell_type": "code",
      "source": [
        "y"
      ],
      "metadata": {
        "colab": {
          "base_uri": "https://localhost:8080/"
        },
        "id": "FHKPLZBg-zlb",
        "outputId": "ab53b10d-3aa3-4ff6-f8f7-1cba6536bbd9"
      },
      "execution_count": null,
      "outputs": [
        {
          "output_type": "execute_result",
          "data": {
            "text/plain": [
              "0        1\n",
              "1        0\n",
              "2        1\n",
              "3        1\n",
              "4        1\n",
              "        ..\n",
              "18280    0\n",
              "18281    0\n",
              "18282    0\n",
              "18283    1\n",
              "18284    1\n",
              "Name: label, Length: 18285, dtype: int64"
            ]
          },
          "metadata": {},
          "execution_count": 68
        }
      ]
    },
    {
      "cell_type": "code",
      "source": [
        "x['title'][0]"
      ],
      "metadata": {
        "colab": {
          "base_uri": "https://localhost:8080/",
          "height": 35
        },
        "id": "fGujJrDYzVCs",
        "outputId": "7ae05de0-5656-4a88-9748-bf8784399661"
      },
      "execution_count": null,
      "outputs": [
        {
          "output_type": "execute_result",
          "data": {
            "text/plain": [
              "'House Dem Aide: We Didn’t Even See Comey’s Letter Until Jason Chaffetz Tweeted It'"
            ],
            "application/vnd.google.colaboratory.intrinsic+json": {
              "type": "string"
            }
          },
          "metadata": {},
          "execution_count": 40
        }
      ]
    },
    {
      "cell_type": "code",
      "source": [
        "print(x['text'][0])"
      ],
      "metadata": {
        "colab": {
          "base_uri": "https://localhost:8080/"
        },
        "id": "XEK-uq1-zt4N",
        "outputId": "88d7584d-6af1-4c36-d898-8975f507365a"
      },
      "execution_count": null,
      "outputs": [
        {
          "output_type": "stream",
          "name": "stdout",
          "text": [
            "House Dem Aide: We Didn’t Even See Comey’s Letter Until Jason Chaffetz Tweeted It By Darrell Lucus on October 30, 2016 Subscribe Jason Chaffetz on the stump in American Fork, Utah ( image courtesy Michael Jolley, available under a Creative Commons-BY license) \n",
            "With apologies to Keith Olbermann, there is no doubt who the Worst Person in The World is this week–FBI Director James Comey. But according to a House Democratic aide, it looks like we also know who the second-worst person is as well. It turns out that when Comey sent his now-infamous letter announcing that the FBI was looking into emails that may be related to Hillary Clinton’s email server, the ranking Democrats on the relevant committees didn’t hear about it from Comey. They found out via a tweet from one of the Republican committee chairmen. \n",
            "As we now know, Comey notified the Republican chairmen and Democratic ranking members of the House Intelligence, Judiciary, and Oversight committees that his agency was reviewing emails it had recently discovered in order to see if they contained classified information. Not long after this letter went out, Oversight Committee Chairman Jason Chaffetz set the political world ablaze with this tweet. FBI Dir just informed me, \"The FBI has learned of the existence of emails that appear to be pertinent to the investigation.\" Case reopened \n",
            "— Jason Chaffetz (@jasoninthehouse) October 28, 2016 \n",
            "Of course, we now know that this was not the case . Comey was actually saying that it was reviewing the emails in light of “an unrelated case”–which we now know to be Anthony Weiner’s sexting with a teenager. But apparently such little things as facts didn’t matter to Chaffetz. The Utah Republican had already vowed to initiate a raft of investigations if Hillary wins–at least two years’ worth, and possibly an entire term’s worth of them. Apparently Chaffetz thought the FBI was already doing his work for him–resulting in a tweet that briefly roiled the nation before cooler heads realized it was a dud. \n",
            "But according to a senior House Democratic aide, misreading that letter may have been the least of Chaffetz’ sins. That aide told Shareblue that his boss and other Democrats didn’t even know about Comey’s letter at the time–and only found out when they checked Twitter. “Democratic Ranking Members on the relevant committees didn’t receive Comey’s letter until after the Republican Chairmen. In fact, the Democratic Ranking Members didn’ receive it until after the Chairman of the Oversight and Government Reform Committee, Jason Chaffetz, tweeted it out and made it public.” \n",
            "So let’s see if we’ve got this right. The FBI director tells Chaffetz and other GOP committee chairmen about a major development in a potentially politically explosive investigation, and neither Chaffetz nor his other colleagues had the courtesy to let their Democratic counterparts know about it. Instead, according to this aide, he made them find out about it on Twitter. \n",
            "There has already been talk on Daily Kos that Comey himself provided advance notice of this letter to Chaffetz and other Republicans, giving them time to turn on the spin machine. That may make for good theater, but there is nothing so far that even suggests this is the case. After all, there is nothing so far that suggests that Comey was anything other than grossly incompetent and tone-deaf. \n",
            "What it does suggest, however, is that Chaffetz is acting in a way that makes Dan Burton and Darrell Issa look like models of responsibility and bipartisanship. He didn’t even have the decency to notify ranking member Elijah Cummings about something this explosive. If that doesn’t trample on basic standards of fairness, I don’t know what does. \n",
            "Granted, it’s not likely that Chaffetz will have to answer for this. He sits in a ridiculously Republican district anchored in Provo and Orem; it has a Cook Partisan Voting Index of R+25, and gave Mitt Romney a punishing 78 percent of the vote in 2012. Moreover, the Republican House leadership has given its full support to Chaffetz’ planned fishing expedition. But that doesn’t mean we can’t turn the hot lights on him. After all, he is a textbook example of what the House has become under Republican control. And he is also the Second Worst Person in the World. About Darrell Lucus \n",
            "Darrell is a 30-something graduate of the University of North Carolina who considers himself a journalist of the old school. An attempt to turn him into a member of the religious right in college only succeeded in turning him into the religious right's worst nightmare--a charismatic Christian who is an unapologetic liberal. His desire to stand up for those who have been scared into silence only increased when he survived an abusive three-year marriage. You may know him on Daily Kos as Christian Dem in NC . Follow him on Twitter @DarrellLucus or connect with him on Facebook . Click here to buy Darrell a Mello Yello. Connect\n"
          ]
        }
      ]
    },
    {
      "cell_type": "markdown",
      "source": [
        "# Extracting Titles and Classifying"
      ],
      "metadata": {
        "id": "X9Fg2zhy6IRY"
      }
    },
    {
      "cell_type": "code",
      "source": [
        "x_t=x['title']"
      ],
      "metadata": {
        "id": "Im8diRfnzzwt"
      },
      "execution_count": null,
      "outputs": []
    },
    {
      "cell_type": "code",
      "source": [
        "x_t=x_t.reset_index()"
      ],
      "metadata": {
        "id": "qqLSt7Cq9NS8"
      },
      "execution_count": null,
      "outputs": []
    },
    {
      "cell_type": "code",
      "source": [
        "x_t=x_t['title']"
      ],
      "metadata": {
        "id": "EQjw4Hzx-A6V"
      },
      "execution_count": null,
      "outputs": []
    },
    {
      "cell_type": "code",
      "source": [
        "len(x_t)"
      ],
      "metadata": {
        "colab": {
          "base_uri": "https://localhost:8080/"
        },
        "id": "yDeoLkJi8Mlz",
        "outputId": "e482c8c2-9200-45bd-9a28-85e8ddadfe46"
      },
      "execution_count": null,
      "outputs": [
        {
          "output_type": "execute_result",
          "data": {
            "text/plain": [
              "18285"
            ]
          },
          "metadata": {},
          "execution_count": 62
        }
      ]
    },
    {
      "cell_type": "code",
      "source": [
        "x_t"
      ],
      "metadata": {
        "colab": {
          "base_uri": "https://localhost:8080/"
        },
        "id": "Kc_bWhHR-Nrv",
        "outputId": "af673702-948a-4e19-f357-9a7fa0c4dd4d"
      },
      "execution_count": null,
      "outputs": [
        {
          "output_type": "execute_result",
          "data": {
            "text/plain": [
              "0        House Dem Aide: We Didn’t Even See Comey’s Let...\n",
              "1        FLYNN: Hillary Clinton, Big Woman on Campus - ...\n",
              "2                        Why the Truth Might Get You Fired\n",
              "3        15 Civilians Killed In Single US Airstrike Hav...\n",
              "4        Iranian woman jailed for fictional unpublished...\n",
              "                               ...                        \n",
              "18280    Rapper T.I.: Trump a ’Poster Child For White S...\n",
              "18281    N.F.L. Playoffs: Schedule, Matchups and Odds -...\n",
              "18282    Macy’s Is Said to Receive Takeover Approach by...\n",
              "18283    NATO, Russia To Hold Parallel Exercises In Bal...\n",
              "18284                            What Keeps the F-35 Alive\n",
              "Name: title, Length: 18285, dtype: object"
            ]
          },
          "metadata": {},
          "execution_count": 63
        }
      ]
    },
    {
      "cell_type": "code",
      "source": [
        "ws = WordNetLemmatizer()\n",
        "list_titles = []\n",
        "for i in range(0, len(x_t)):\n",
        "  headline = re.sub('[^a-zA-Z]', ' ', x_t[i])\n",
        "  #matching the text string for any lower case letter or uppercase\n",
        "  #when the ^ is on the inside of [], itmatches any character that does not appear inside []\n",
        "  #when ^ is on the outside of the []; i tmatches the beginning of the line/string - title\n",
        "  headline = headline.lower()\n",
        "  headline = headline.split()\n",
        "  headline = [ws.lemmatize(word) for word in headline if word not in stopwords.words(\"english\")]\n",
        "  headline = ' '.join(headline)\n",
        "  list_titles.append(headline) #adds a single item to the existing list"
      ],
      "metadata": {
        "id": "9IMbDrTYz0P7"
      },
      "execution_count": null,
      "outputs": []
    },
    {
      "cell_type": "code",
      "source": [
        "list_titles"
      ],
      "metadata": {
        "colab": {
          "base_uri": "https://localhost:8080/"
        },
        "id": "E6yels64z0aN",
        "outputId": "a11dab99-327b-4280-fe4f-6bf778d5c675"
      },
      "execution_count": null,
      "outputs": [
        {
          "output_type": "execute_result",
          "data": {
            "text/plain": [
              "['house dem aide even see comey letter jason chaffetz tweeted',\n",
              " 'flynn hillary clinton big woman campus breitbart',\n",
              " 'truth might get fired',\n",
              " 'civilian killed single u airstrike identified',\n",
              " 'iranian woman jailed fictional unpublished story woman stoned death adultery',\n",
              " 'jackie mason hollywood would love trump bombed north korea lack trans bathroom exclusive video breitbart',\n",
              " 'beno hamon win french socialist party presidential nomination new york time',\n",
              " 'back channel plan ukraine russia courtesy trump associate new york time',\n",
              " 'obama organizing action partner soros linked indivisible disrupt trump agenda',\n",
              " 'bbc comedy sketch real housewife isi cause outrage',\n",
              " 'russian researcher discover secret nazi military base treasure hunter arctic photo',\n",
              " 'u official see link trump russia',\n",
              " 'yes paid government troll social medium blog forum website',\n",
              " 'major league soccer argentine find home success new york time',\n",
              " 'well fargo chief abruptly step new york time',\n",
              " 'anonymous donor pay million release everyone arrested dakota access pipeline',\n",
              " 'fbi close hillary',\n",
              " 'chuck todd buzzfeed donald trump political favor breitbart',\n",
              " 'monica lewinsky clinton sex scandal set american crime story',\n",
              " 'rob reiner trump mentally unstable breitbart',\n",
              " 'abortion pill order rise latin american nation zika alert new york time',\n",
              " 'nuke un historic treaty ban nuclear weapon',\n",
              " 'exclusive islamic state supporter vow shake west following manchester terrorist massacre breitbart',\n",
              " 'humiliated hillary try hide camera caught min rally',\n",
              " 'andrea tantaros fox news claim retaliation sex harassment complaint new york time',\n",
              " 'hillary clinton became hawk new york time',\n",
              " 'chuck todd buzzfeed eic published fake news breitbart',\n",
              " 'boris johnson brexit leader fumble new york time',\n",
              " 'texas oil field rebound price lull job left behind new york time',\n",
              " 'bayer deal monsanto follows agribusiness trend raising worry farmer new york time',\n",
              " 'russia move ban jehovah witness extremist new york time',\n",
              " 'still danger zone january th',\n",
              " 'open thread u election',\n",
              " 'democrat gutierrez blame chicago gun violence nra breitbart',\n",
              " 'avoiding peanut avoid allergy bad strategy new york time',\n",
              " 'mri show detailed image week unborn baby breitbart',\n",
              " 'best kind milk dairy',\n",
              " 'ryan lochte dropped speedo usa retailer new york time',\n",
              " 'conservative urge session clean obama civil right division breitbart',\n",
              " 'internal inquiry sealed fate roger ailes fox new york time',\n",
              " 'press tv debate duff lebanon hezbollah aoun presidency video',\n",
              " 'samsung combustible galaxy note unveils new smartphone new york time',\n",
              " 'poland vow referendum migrant quota amidst eu pressure public voice heard breitbart',\n",
              " 'sparking inner revolution',\n",
              " 'study half car crash involve driver distracted cell phone breitbart',\n",
              " 'trump election spark individual collective healing',\n",
              " 'ep fade black jimmy church w laura eisenhower restoring balance video',\n",
              " 'cognition true islam book review',\n",
              " 'donald trump win election biggest miracle u political history',\n",
              " 'mindful eating way fight bingeing new york time',\n",
              " 'major potential impact corporate tax overhaul new york time',\n",
              " 'wonder glp like day election',\n",
              " 'maker world smallest machine awarded nobel prize chemistry new york time',\n",
              " 'massive anti trump protest union square nyc live stream',\n",
              " 'review lion brings tear lost boy wiped dry google new york time',\n",
              " 'u general islamic state chemical attack impact u force',\n",
              " 'jury find oregon standoff defendant guilty federal conspiracy gun charge',\n",
              " 'clinton campaign stunned fbi reportedly reopens probe hillary clinton email',\n",
              " 'penny speak anti abortion rally new york time',\n",
              " 'bernie sander say medium trump gutless political coward',\n",
              " 'make briquette daily waste',\n",
              " 'treason nyt vow rededication reporting',\n",
              " 'dress like woman mean new york time',\n",
              " 'ella brennan still feed lead new orleans new york time',\n",
              " 'pressing asia agenda obama tread lightly human right new york time',\n",
              " 'democrat percent chance retake senate new york time',\n",
              " 'judge spank transgender obsessed obama lie redflag news',\n",
              " 'u diplomat urge strike assad syria new york time',\n",
              " 'franken call independent investigation trump putin crush breitbart',\n",
              " 'louisiana simone bile u presidential race tuesday evening briefing new york time',\n",
              " 'turkey threatens open migrant land passage europe row dutch',\n",
              " 'huma weiner dog hillary',\n",
              " 'colin kaepernick start black panther inspired youth camp wow',\n",
              " 'trump immigration policy explained new york time',\n",
              " 'mary tyler moore mourned dick van dyke star new york time',\n",
              " 'poison',\n",
              " 'trump fan rally across nation support president new york time',\n",
              " 'fox biz reporter help bash clinton rally covering trump packed event day',\n",
              " 'fiction podcasts worth listen new york time',\n",
              " 'mike birbiglia tip making small hollywood anywhere new york time',\n",
              " 'investment strategist forecast collapse timeline last gasp economic cycle come',\n",
              " 'venezuela muzzle legislature moving closer one man rule new york time',\n",
              " 'whether john mccain mitt romney donald trump democrat always run war woman tactic destroy republican candidate',\n",
              " 'breitbart news daily trump boom breitbart',\n",
              " 'white house confirms gitmo transfer obama leaf office',\n",
              " 'poll voter heard democratic election candidate breitbart',\n",
              " 'migrant confront judgment day old deportation order new york time',\n",
              " 'n u yale sued retirement plan fee new york time',\n",
              " 'technocracy real reason un want control internet',\n",
              " 'american driver regain appetite gas guzzler new york time',\n",
              " 'hillary clinton build million war chest doubling donald trump new york time',\n",
              " 'trump catch sick reporter snuck interview priceless response',\n",
              " 'senator contacted russian government week',\n",
              " 'image perfectly illustrate struggle dakota access pipeline',\n",
              " 'washington state take refugee muslim rest country take refugee muslim breitbart',\n",
              " 'ncaa big keep watchful eye texas bathroom bill breitbart',\n",
              " 'massive espn financial subscriber loss drag disney first quarter sale breitbart',\n",
              " 'megyn kelly contract set expire next year primed big show new york time',\n",
              " 'teacher suspended allowing student hit trump pinata cinco de mayo',\n",
              " 'breaking trump expressed concern anthony weiner illegal access classified info month ago truthfeed',\n",
              " 'snap share leap debut investor doubt value vanish new york time',\n",
              " 'clinton campaign chair dinner top doj official one day hillary benghazi hearing',\n",
              " 'tv series first female mlb pitcher canned one low rated season breitbart',\n",
              " 'seeking best fit woman final four return friday sunday new york time',\n",
              " 'proposal canadian national bird ruffle feather new york time',\n",
              " 'review beyonc make lemonade marital strife new york time',\n",
              " 'trump ask sharp increase military spending official say new york time',\n",
              " 'watergate smoking gun email discus cleaning obama hillary email',\n",
              " 'chapo trap house new left wing podcast flagrant rip right stuff',\n",
              " 'taiwan responds china sends carrier taiwan strait new york time',\n",
              " 'mother october surprise house card come tumbling',\n",
              " 'explosive assange pilger interview u election expect riot hillary win',\n",
              " 'telescope ate astronomy track surpass hubble new york time',\n",
              " 'closed afghan pakistani border becoming humanitarian crisis new york time',\n",
              " 'tv anchor arrive white house lunch donald trump breitbart',\n",
              " 'pelosi republican tell trump bringing dishonor presidency breitbart',\n",
              " 'beautiful prehistoric world earth wasteland',\n",
              " 'ignored trump news week learned new york time',\n",
              " 'donald trump unveils plan family bid woman vote new york time',\n",
              " 'montana democrat vote bill banning sharia law call repugnant breitbart',\n",
              " 'monsanto tribunal go happens',\n",
              " 'official simone bile world best gymnast new york time',\n",
              " 'literally hurt brain read economic idiocy emitted trumpkins libertarian',\n",
              " 'u n secretary general complains mass rejected globalism favor nationalism',\n",
              " 'trump bollywood ad meant sway indian american voter hilarious fail video',\n",
              " 'fbi find previously unseen hillary clinton email weiner laptop',\n",
              " 'year american journalist killed conspiracy theory syria proven fact',\n",
              " 'report illegal alien forego food stamp stay trump radar',\n",
              " 'make netherlands great hahaha spreading worldwide',\n",
              " 'four killed injured jerusalem truck ramming terror attack',\n",
              " 'leader salute comrade newt brutal megyn sic kelly beatdown play game',\n",
              " 'student black college got beaten maced protesting kkk david duke',\n",
              " 'despite strict gun control one child youth shot every day ontario',\n",
              " 'rise internet fan bully new york time',\n",
              " 'newly vibrant washington fear trump drain culture new york time',\n",
              " 'fed hold interest rate steady plan slower increase new york time',\n",
              " 'battle unesco',\n",
              " 'latest test white house pulling easter egg roll new york time',\n",
              " 'burlesque dancer fired investigated secret service trump assassination tweet breitbart',\n",
              " 'clinton haiti',\n",
              " 'cuomo christie parallel path top trouble got new york time',\n",
              " 'top place world allowed visit',\n",
              " 'new study link fluoride consumption hypothyroidism weight gain worse',\n",
              " 'james mattis secretary offense',\n",
              " 'black church burned spray painted vote trump',\n",
              " 'sears agrees sell craftsman stanley black amp decker raise cash new york time',\n",
              " 'takata chief executive resign financial pressure mount new york time',\n",
              " 'goodbye good black sabbath new york time',\n",
              " 'teen geisha doll gang busted armed robbery breitbart',\n",
              " 'mohamad khweis another virginia man palestinian american muslim charged terrorism',\n",
              " 'price obamacare replacement nobody worse financially breitbart',\n",
              " 'va fails properly examine thousand veteran',\n",
              " 'trump family already sworn secrecy faked moon landing soon',\n",
              " 'sport writer nfl great jim brown decade civil right work erased saying nice thing donald trump breitbart',\n",
              " 'watch tv excuse republican skipping donald trump convention new york time',\n",
              " 'open letter trump voter told like',\n",
              " 'comment powerful corporate lobby quietly backing hillary nobody talking runsinquicksand',\n",
              " 'hijacking end peacefully libyan airliner land malta new york time',\n",
              " 'like girl girl genius new york time',\n",
              " 'scientist say canadian bacteria fossil may earth oldest new york time',\n",
              " 'pro government force advance syria amid talk u russia cooperation new york time',\n",
              " 'cancer agency fire withholding carcinogenic glyphosate document',\n",
              " 'work walk minute work new york time',\n",
              " 'steve harvey talk housing president elect trump new york time',\n",
              " 'coalition u troop fighting mosul offensive come fire',\n",
              " 'uk citizen war hero get cheap pre fab house muslim colonizer get taxpayer funded luxurious council home',\n",
              " 'vet fight war fed demand money back illegals refugee keep money',\n",
              " 'mr trump wild ride new york time',\n",
              " 'fbi director comey bamboozled doj congress clinton',\n",
              " 'food naturally unclog artery prevent heart attack',\n",
              " 'death two state solution',\n",
              " 'comment parent date asleep car cop arrived killed facespace',\n",
              " 'donald trump team show sign post election moderation new york time',\n",
              " 'miami beach try tame raucous street fishbowl drink stay new york time',\n",
              " 'doctor mysteriously found dead summit breakthrough cure cancer',\n",
              " 'donald trump unsinkable candidate new york time',\n",
              " 'shocking new mock hillary ad campaign warns take u war enlistforher fightforher dieforher',\n",
              " 'exclusive family slain border patrol agent brian terry say eric holder among real criminal responsible',\n",
              " 'trump tell reporter wall work ask israel breitbart',\n",
              " 'america survive next year',\n",
              " 'commissioner start press cleveland indian logo new york time',\n",
              " 'un plan implant everyone biometric id drill',\n",
              " 'trump attack senator credibility gorsuch comment new york time',\n",
              " 'clinton advisor loses leaked email hillary illegal activity',\n",
              " 'art laffer paul ryan perfect right breitbart',\n",
              " 'donald trump blamed economic crash',\n",
              " 'pokemon go player inadvertently stopping people committing suicide japan',\n",
              " 'california senate race tale diversity flailing g p new york time',\n",
              " 'exclusive source say megyn kelly would welcomed back fox news',\n",
              " 'break precedent obama envoy denied extension past inauguration day new york time',\n",
              " 'brexit vote go monty python may offer clue new york time',\n",
              " 'blind mystic predicted bad news trump',\n",
              " 'total vetting fail left wing snowden fan girl reality winner get access nsa secret',\n",
              " 'somalia u escalates shadow war new york time',\n",
              " 'free care blessing victim orlando nightclub attack new york time',\n",
              " 'durably democratic county country could go trump',\n",
              " 'fed challenge raising rate may existential new york time',\n",
              " 'russia intention attacking anyone absurd say vladimir putin',\n",
              " 'f investigates errant flight involving harrison ford new york time',\n",
              " 'fed raise key interest rate citing strengthening economy new york time',\n",
              " 'la expresi n lo siguiente ya e la utilizada lo siguiente en el castellano',\n",
              " 'trump berates news medium new strategy needed cover new york time',\n",
              " 'u drone strike target taliban leader new york time',\n",
              " 'u intelligence expect al qaeda attack monday new york virginia texas',\n",
              " 'told cannabis great reversing alzheimer',\n",
              " 'report megyn kelly kick nbc show kardashian family interview',\n",
              " 'local percenters may rich think new york time',\n",
              " 'dr david duke mark collett uk collett explains duke trump victory would change politics forever',\n",
              " 'statement senate well fargo chief deeply sorry new york time',\n",
              " 'cnn statement distance network buzzfeed fake news dossier breitbart',\n",
              " 'c e ponder new game trump rule new york time',\n",
              " 'spicer brady stolen jersey another bad press breitbart',\n",
              " 'scaredy cat investigation people enjoy fear new york time',\n",
              " 'left vision',\n",
              " 'showdown loom u question chinese deal german chip designer new york time',\n",
              " 'trump administration take harder tack trade china new york time',\n",
              " 'pew american trust level federal government plummet historic low breitbart',\n",
              " 'islamic state supporting former national guardsman pleads guilty terrorism charge virginia',\n",
              " 'spicer reporter going raise hand like big boy girl breitbart',\n",
              " 'leader applaud gorsuch confirmation win pro life movement',\n",
              " 'newsticker',\n",
              " 'french vogue march cover feature transgender model new york time',\n",
              " 'trump veers party line gun control new york time',\n",
              " 'oligarchy prepared groundwork stealing election',\n",
              " 'ya hay reencuentros de operaci n triunfo que ediciones de operaci n triunfo',\n",
              " 'chatsworth house tale five century new york time',\n",
              " 'uncomfortable love affair donald trump new england patriot new york time',\n",
              " 'john mccain withdraws support donald trump disclosure recording new york time',\n",
              " 'strange unending limbo egypt hosni mubarak new york time',\n",
              " 'poverty rose u house district obama presidency',\n",
              " 'huma abedin seek fbi immunity deal',\n",
              " 'single mom escape friend zone one non date time new york time',\n",
              " 'boeing suit future spaceflight new spacesuit design breitbart',\n",
              " 'trump float olive branch might keep part health law new york time',\n",
              " 'wapo try compare elizabeth warren breaking senate rule milo shut violent riot breitbart',\n",
              " 'crumpled school bus leaf chattanooga dazed new york time',\n",
              " 'died came back life incredible message humanity',\n",
              " 'fight national african american museum new york time',\n",
              " 'father manchester suicide bomber arrested libya breitbart',\n",
              " 'secret true leader',\n",
              " 'muslim demand local walk dog public violation sharia disrespect',\n",
              " 'hillary campaign bed pac staff donated k fbi agent wife investigation',\n",
              " 'still trying flip electoral college block trump win',\n",
              " 'al sharpton dems point appealing archie bunker trump voter breitbart',\n",
              " 'think many doom sayers trump get office',\n",
              " 'democrat jump session resignation band wagon breitbart',\n",
              " 'alt right architect glenn beck open fire alt right grave threat republic audio tweet',\n",
              " 'politicized justice protect hillary',\n",
              " 'north carolina saturated surprised reel hurricane matthew new york time',\n",
              " 'life loved submit memory new york time',\n",
              " 'achieving mindfulness work meditation cushion required new york time',\n",
              " 'world first zero emission hydrogen powered passenger train unveiled germany',\n",
              " 'confused chip credit card get line new york time',\n",
              " 'brook trump siding foreign leader u president israel russia breitbart',\n",
              " 'toxic air home get rid naturally',\n",
              " 'connecticut reader report record voter registration inspired trump',\n",
              " 'germany reacts merkel trump visit could lot worse new york time',\n",
              " 'justin rose outduels henrik stenson golf gold medal new york time',\n",
              " 'iceland water cure new york time',\n",
              " 'shortens l train shutdown month new york time',\n",
              " 'time presidency decided new york time',\n",
              " 'u n relief official call crisis aleppo apex horror new york time',\n",
              " 'berkeley treat violent anti speech left like kkk',\n",
              " 'statistical propaganda many syrian u regime change killed',\n",
              " 'self help guru james altucher owns thing new york time',\n",
              " 'trump religious liberty order give session major leeway breitbart',\n",
              " 'demoledor amparo contra salgado keiko congresistas',\n",
              " 'era trump china president champion economic globalization new york time',\n",
              " 'sad saga john walker lindh rebel without clue',\n",
              " 'court disagree michigan vote recount new york time',\n",
              " 'bernie sander feud democratic leadership heat new york time',\n",
              " 'shortest powerful explanation trump victory ever seen',\n",
              " 'russia look populate far east wimp need apply new york time',\n",
              " 'johnson amendment trump vow destroy explained new york time',\n",
              " 'donald trump march life full support',\n",
              " 'police official found dead long island suicide suspected new york time',\n",
              " 'radical change store world global market ready',\n",
              " 'like make showbiz best friend new york time',\n",
              " 'trump nominates neil gorsuch supreme court new york time',\n",
              " 'bidder cast doubt seriousness mexican border wall project',\n",
              " 'stake u election',\n",
              " 'israel approves additional funding settlement west bank new york time',\n",
              " 'tx gov abbott sign legislation could put sheriff sanctuary city jail breitbart',\n",
              " 'donald trump hold thank rally cincinnati announces pick defense secretary new york time',\n",
              " 'lawmaker look bipartisanship health care new york time',\n",
              " 'inside conservative push state amend constitution new york time',\n",
              " 'donald trump tell n r hillary clinton want let violent criminal go free new york time',\n",
              " 'pope francis trump japan tuesday briefing new york time',\n",
              " 'mayorsstand day tout support illegal immigrant',\n",
              " 'trump campaign celebrity',\n",
              " 'democrat drag jeff session confirmation fight breitbart',\n",
              " 'breaking news podesta brother pedo ring mr trump drain swamp v guerrilla economist',\n",
              " 'la frases destacadas del debate de investidura',\n",
              " 'confusing jihad hirabah build peaceful world',\n",
              " 'lazy liberal journalist smear bannon',\n",
              " 'australia close detention center manus island still accept asylum seeker new york time',\n",
              " 'politico hillary clinton running breitbart',\n",
              " 'giant lynx make adorable sound whenever human rub face',\n",
              " 'minnesota cop found guilty philando castile shooting trial',\n",
              " 'million american killed minute',\n",
              " 'wayne madsen cia always served interest wall street',\n",
              " 'november daily contrarian read',\n",
              " 'flashback report obama campaign rep talked iran hamas',\n",
              " 'lesseroftwoevilism',\n",
              " 'aya cash first time ate vegetable new york time',\n",
              " 'trump adviser say israeli settlement illegal',\n",
              " 'serena williams prevails opener problem new york time',\n",
              " 'soul man sam moore honored perform trump inauguration',\n",
              " 'ferrell came back bush destroy trump video',\n",
              " 'chinese government concerned tough talk trump cabinet breitbart',\n",
              " 'billionaire reported seized hong kong hotel taken china new york time',\n",
              " 'easy know link',\n",
              " 'homebody find ultimate home office new york time',\n",
              " 'ann coulter unloads paul ryan deeply unpopular obamacare bill breitbart',\n",
              " 'transgender bathroom debate turn personal vermont high school new york time',\n",
              " 'obama hillary wanted libya gaddafi toppled killed',\n",
              " 'alert former soros associate warned pro wrong gold silver skyrocket like',\n",
              " 'hillary panicking fbi weiner email',\n",
              " 'chaotic minute trump defends fine tuned machine new york time',\n",
              " 'one police shift patrolling anxious america new york time',\n",
              " 'fighting ghost fascist aiding real one',\n",
              " 'monday evening briefing brexit abortion game throne new york time',\n",
              " 'eu increase brexit bill demand billion billion',\n",
              " 'arianna huffington sleep revolution start home new york time',\n",
              " 'iranian missile accidentally destroys iranian ship aimed syria',\n",
              " 'sonoma county california voted create largest gmo free zone america',\n",
              " 'fbi comey wikileaks intelligence porn journalism breitbart',\n",
              " 'clare waight keller named first female designer givenchy new york time',\n",
              " 'reality faced black canadian national shame',\n",
              " 'top nfl draft prospect caleb brantley charged punching woman face breitbart',\n",
              " 'video pacific crest trail association lavoy finicim murder',\n",
              " 'life lesson man seen death',\n",
              " 'trump g p work win repeal obama health act new york time',\n",
              " 'atlantic goldberg confident trump handle matter life death breitbart',\n",
              " 'orthodox rabbi support trump',\n",
              " 'nuclear tension u russia reach dangerous point',\n",
              " 'gambia join south africa burundi exodus international criminal court',\n",
              " 'peyton manning golfed president trump sunday',\n",
              " 'obama urge donald trump send signal unity minority group woman new york time',\n",
              " 'like miracle woman give birth using ovary frozen since childhood new york time',\n",
              " 'uconn recipe success run run run new york time',\n",
              " 'assange finally afforded opportunity give statement rape accusation',\n",
              " 'hillary puppet show much hillary care god omission word',\n",
              " 'stock market gone high problem new york time',\n",
              " 'john kerry reject suggestion u involvement turkey coup new york time',\n",
              " 'trump aide stephen miller u absolute sovereign right determine cannot enter country breitbart',\n",
              " 'year old russian girl speaks language',\n",
              " 'powerful corporate lobby quietly backing hillary nobody talking',\n",
              " 'maintaining sunny spirit face hardship new york time',\n",
              " 'rush limbaugh comey firing epic troll trump dems breitbart',\n",
              " 'twitter sue government block unmasking account critical trump new york time',\n",
              " 'warrior resilient home cruise cavalier new york time',\n",
              " 'comey letter clinton email subject justice dept inquiry new york time',\n",
              " 'spain malta u uk pressure refuse allow russian carrier group refuel port',\n",
              " 'review radiohead moon shaped pool patient perfectionism new york time',\n",
              " 'man militarized police standing rock working',\n",
              " 'woman arrested property land stolen dapl',\n",
              " 'pulitzer prize new york time win daily news propublica share public service award new york time',\n",
              " 'vanquished witness takeover bush clinton attend donald trump inauguration breitbart',\n",
              " 'speculation possible obama pardon edward snowden bowe bergdahl chelsea manning breitbart',\n",
              " 'cheesy mashed potato soul new york time',\n",
              " 'unprincipled wapo editor damned comey critic join',\n",
              " 'nation wrecked immigration civil war brewing gooding swede turn muslim migrant violence rape murder',\n",
              " 'man shot dead officer crucifix gun police say new york time',\n",
              " 'exclusive rep jim jordan trump first day think great start breitbart',\n",
              " 'haley attack syria one president finest hour breitbart',\n",
              " 'justin bieber defecates adoring irish fan hotel window',\n",
              " 'cancer agency fire withholding carcinogenic glyphosate document',\n",
              " 'gianno caldwell claim hillary care black vote black life',\n",
              " 'isi us ramadan calling new terrorist attack new york time',\n",
              " 'daily show mock mahatma blondie megyn kelly nbc debut',\n",
              " 'health care bill failure part art deal breitbart',\n",
              " 'lewandowski comey liar looking sign major book deal breitbart',\n",
              " 'kimberly guilfoyle discus potential white house press secretary job interview',\n",
              " 'clinton campaign chairman john podesta invited occult spirit cooking dinner marina abramovi',\n",
              " 'obama coalition crumbled leaving opening trump new york time',\n",
              " 'pregnancy change brain way may help mothering new york time',\n",
              " 'fema open loan window red cross try shut shelter',\n",
              " 'gaiaportal interwebs gaia energetics strengthened',\n",
              " 'scarborough trump poop pant call modern art breitbart',\n",
              " 'cooking invest time work new york time',\n",
              " 'bad news jackson family woman leak star sick k sex secret',\n",
              " 'gorsuch london republican party thursday evening briefing new york time',\n",
              " 'emma morano last person born dy breitbart',\n",
              " 'loserpalooza craziest scene anti trump protest breitbart',\n",
              " 'trump victory mean africa',\n",
              " 'vision life mar earth depth new york time',\n",
              " 'obama cancel talk rodrigo duterte philippine say regret slur new york time',\n",
              " 'new jersey increase gas tax ending long political stalemate new york time',\n",
              " 'abc manchester attack likely inflame anti islamic sentiment breitbart',\n",
              " 'hidden plain sight global depopulation agenda',\n",
              " 'job american new york time',\n",
              " 'sander asks obama intervene dakota access pipeline dispute',\n",
              " 'google add job section search engine including employer rating breitbart',\n",
              " 'cry jordan meme die new york time',\n",
              " 'dem rep nchez trump used fear muslim immigrant promote policy undermine value breitbart',\n",
              " 'announcement saker community german saker blog vineyard saker',\n",
              " 'shooting victim family watch gun measure stall new york time',\n",
              " 'image reveal crashed schiaparelli mar lander',\n",
              " 'grassroots coalition share many question concern betsy devos senator',\n",
              " 'october daily contrarian read',\n",
              " 'trump inaugural ball work begin playing game breitbart',\n",
              " 'trump choice stephen bannon nod anti washington base new york time',\n",
              " 'medium outrage white house exclusion fake news breitbart',\n",
              " 'benny morris untenable denial ethnic cleansing palestine',\n",
              " 'obama hillary clinton pardon could heal divided nation',\n",
              " 'exceptional handling',\n",
              " 'nota conceptual para la presidencia de rusia',\n",
              " 'response philippine president fatal blast raise fear new york time',\n",
              " 'david adjaye designing museum speaks different language new york time',\n",
              " 'bulletin righteous jew trump rule ruin gop establishment etc item',\n",
              " 'britain reduces terror level one notch severe terror cell arrest',\n",
              " 'mute alone never short kind word friend new york time',\n",
              " 'iranian military commander claim rogue nation sending elite fighter infiltrate u europe',\n",
              " 'account',\n",
              " 'watch muslim student claim non believer killed islamic country breitbart',\n",
              " 'yemen yet another false flag protect saudi u interest middle east new eastern outlook',\n",
              " 'watch muslim palestinian declare follow prophet muhammad kill christian jew',\n",
              " 'street dog kerala call upon superdog krypto rescue human',\n",
              " 'israel tracked anti government journalist facebook',\n",
              " 'new alaska law taking first step common core',\n",
              " 'key baylor football executive demarko butler fired texting scandal breitbart',\n",
              " 'calgary airport arrival yyc',\n",
              " 'george michael wrestled fame frank sinatra advice new york time',\n",
              " 'sharon old laureate sexuality scrutinizes body ode new york time',\n",
              " 'blue collar election shock liberal medium',\n",
              " 'die new york time',\n",
              " 'police fire rubber bullet pipeline protester',\n",
              " 'ann coulter hit supposed gay icon kathy griffin isi cribbed antic',\n",
              " 'contaminated food china entering u organic label',\n",
              " 'ten famous people read summer new york time',\n",
              " 'hillary clinton knew year ago anthony weiner pedophile wikileaks',\n",
              " 'million stairway nowhere far west side new york time',\n",
              " 'cyber war trifle catastrophe information',\n",
              " 'president putin asks u stop provoking russia',\n",
              " 'inquiry cloud de blasio bid come strong manager race new york time',\n",
              " 'u drone strike afghanistan kill wound several civilian',\n",
              " 'bobby hutcherson vibraphonist coloristic range sound dy new york time',\n",
              " 'amnesty advocate boycott agency meeting pro american advocate invited breitbart',\n",
              " 'project veritas robert creamer illegal foreign wire transfer caught tape',\n",
              " 'ex flotus michelle obama trump want feed crap kid',\n",
              " 'south sudan slide closer war gunfire rumble capital new york time',\n",
              " 'national mood focus group reflects angry divided america',\n",
              " 'bankrupt puerto rico voting u statehood breitbart',\n",
              " 'overwhelmed brexit basic new york time',\n",
              " 'seattle gay mayor accused sexually molesting teen breitbart',\n",
              " 'gender fluidity runway new york time',\n",
              " 'u nato attack putin military drill russia world war red alert kopya',\n",
              " 'new clinton email came underage sex pest anthony weiner',\n",
              " 'montana bear attack lesson hope survival first aid new york time',\n",
              " 'best america new york time',\n",
              " 'pecan step pie plate new york time',\n",
              " 'barack obama plagiarized tell word matter breitbart',\n",
              " 'lower back ache active wait new guideline say new york time',\n",
              " 'sleep hour people die new york time',\n",
              " 'veep season episode little dance new york time',\n",
              " 'dr oz trump offer placebo transparency new york time',\n",
              " 'comment gold medalist wrestler get violent police cop choose engage deadly force buck rogers',\n",
              " 'one year water orange county four day breitbart',\n",
              " 'doctor enemy afghan force target f hospital new york time',\n",
              " 'year old hebrew mention jerusalem found',\n",
              " 'spirit cooking disturbing podesta email yet warning graphic content',\n",
              " 'donald trump misstep risk putting ceiling support swing state new york time',\n",
              " 'green party margaret flower challenge u senate debate maryland undemocratic',\n",
              " 'officer rescue drowning deer pool quick thinking',\n",
              " 'police suspect punch army veteran steal service dog outside home bronx breitbart',\n",
              " 'yikes megyn kelly receives rude awakening reminded replaceable',\n",
              " 'iran sending elite irgc warfighters europe united state preparation battle',\n",
              " 'hillary endorsed donald trump president according wikileaks',\n",
              " 'woodward trump dossier garbage document intelligence chief apologize trump breitbart',\n",
              " 'emmy nomination tracy morgan emotional return saturday night live new york time',\n",
              " 'trump pick mick mulvaney south carolina congressman budget director new york time',\n",
              " 'donald trump el primer presidente naranja de los estados unidos',\n",
              " 'attorney general loretta lynch plead fifth',\n",
              " 'russia u missile defense pose deep risk security asia',\n",
              " 'washington plan b syria really mean',\n",
              " 'upset brexit british jew look germany new york time',\n",
              " 'girl asks boyfriend give iphone us money buy house',\n",
              " 'amnesty international slam obama gov killing civilian syria',\n",
              " 'finding flock rural writer book club new york time',\n",
              " 'venezuela crisis enters dangerous phase maduro foe go militant',\n",
              " 'emigre super bloc part viii quasi legal coup hillary clinton information operation election',\n",
              " 'could question ask loved one voted way new york time',\n",
              " 'bbc asks really happened clinton haiti',\n",
              " 'trump pick thomas bossert top counterterrorism adviser new york time',\n",
              " 'coming unglued',\n",
              " 'trump jr suspiciously help arizona woman push stalled car us photo op video',\n",
              " 'suicide chicago police officer skyrocket',\n",
              " 'think suv safe shocking video',\n",
              " 'people tortured killed sufi muslim shrine pakistan',\n",
              " 'comment architecture clever arrangement brick man transforms healing process architecture clever arrangement brick man transforms healing process new earth medium',\n",
              " 'hybrid war strategy africa introduction',\n",
              " 'julian assange speak prerecorded rt interview',\n",
              " 'watch israel loving hollywood actor issued major plea america minute rock election',\n",
              " 'n l donald trump botch independence day moment new york time',\n",
              " 'exclusive congresswoman marsha blackburn say eliminate net neutrality preserve open internet breitbart',\n",
              " 'attach year round greenhouse home',\n",
              " 'sheriff clarke obama final day obama like tenant evicted property gonna trash place way door video',\n",
              " 'weird ban woman iran',\n",
              " 'end game close clinton deep state turn',\n",
              " 'trump fighting chance establishment new eastern outlook',\n",
              " 'trade stance toward china clinton trump signal chill new york time',\n",
              " 'review secret life pet amuses miss opportunity new york time',\n",
              " 'first case demonetisation related hiv man unprotected sex atm machine',\n",
              " 'thing need know dakota access pipeline protest',\n",
              " 'koch brother battle prevent dark money disclosure south dakota',\n",
              " 'milo berkeley event evacuated masked protester light fire storm venue breitbart',\n",
              " 'authoritarianism west demonizes strong popular leader',\n",
              " 'swedish journo sweden collapse without illegal migrant',\n",
              " 'promising internet career vine dead write newsbiscuit cheer',\n",
              " 'iowa trump voter unfazed controversy new york time',\n",
              " 'radical american grown marxist terror group made announcement january th conservative daily post',\n",
              " 'guardian opinion writer trump bannon counting terrorist massacre',\n",
              " 'putin pro trump online troll spilled bean samantha bee',\n",
              " 'along mosul front line desperate civilian dug troop fighter new york time',\n",
              " 'second avenue subway open train delay end happy tear new york time',\n",
              " 'year old cher don see top nipple pasty billboard award',\n",
              " 'report stopping nine percent illegal alien border crossers would pay trump border wall breitbart',\n",
              " 'ice union issue final warning voter',\n",
              " 'elite new york police unit rehearses terrorist attack new york time',\n",
              " 'trump hollywood star vandal out shameless new video taunt police seeking',\n",
              " 'california today view san francisco leaning tower space new york time',\n",
              " 'matthew trump speech putin saying america first hitlerian background breitbart',\n",
              " 'vladimir putin valdai international discussion club shaping world tomorrow vladimir putin',\n",
              " 'chinese social medium rage united airline controversy breitbart',\n",
              " 'america better without border',\n",
              " 'chaos terror tie make venezuela direct threat usa former un security council president say breitbart',\n",
              " 'rick ross documentary video double ad checker new york time',\n",
              " 'oil spilling pacific ocean since last month totally ignored',\n",
              " 'podesta mill going dump email',\n",
              " 'thoughtlessly disbelieve conspiracy theory need read',\n",
              " 'dr david duke dr slattery expose hillary treason trump duke win',\n",
              " 'russian frigate syrian cost blast terrorist hq cruise missile video',\n",
              " 'hillary clinton liked covert action stayed covert transcript show new york time',\n",
              " 'u kurdish troop involved invading isi capital raqqa',\n",
              " 'awakened humanity awaits fully scripted ending controversial election day nears',\n",
              " 'george soros backed climate march brings celebs national mall sweltering saturday breitbart',\n",
              " 'edward snowden long strange journey hollywood new york time',\n",
              " 'black trump man belonged murderous cult',\n",
              " 'bill clinton lover called ruthless hillary warden',\n",
              " 'russia cina e arabia saudita domano l egemonia del dollaro di ariel noyola rodr guez',\n",
              " 'third month india cash shortage begin bite new york time',\n",
              " 'one trump administration position gaining popularity going shock breitbart',\n",
              " 'bill clinton said white middle class life expectancy declined obama year',\n",
              " 'furious eric holder issued dire warning comey partisan smear',\n",
              " 'memo trump action day',\n",
              " 'chaos desperation thousand flee aleppo amid government advance new york time',\n",
              " 'wildfire empty fort mcmurray alberta oil sand region new york time',\n",
              " 'schumer session investigated seems violating recusal breitbart',\n",
              " 'amid division march washington seek bring woman together new york time',\n",
              " 'zoe saldana trump hollywood got cocky became arrogant bully',\n",
              " 'anti establishment trump plan appoint goldman sachs george soros insider',\n",
              " 'cholesterol drug men gonad',\n",
              " 'trump flynn treated unfair fake medium illegal leak breitbart',\n",
              " 'california today virtual reality investigating trayvon martin case new york time',\n",
              " 'nearly decade later apology lynching georgia new york time',\n",
              " 'marcia clark finally moment savor emmy new york time',\n",
              " 'brexit speech theresa may outline clean break u k new york time',\n",
              " 'man hated black men found victim cared others new york time',\n",
              " 'michael flynn failed disclose income russia linked entity new york time',\n",
              " 'federal judge throw convicted c sniper four life sentence',\n",
              " 'donald trump obama thanksgiving weekend briefing new york time',\n",
              " '',\n",
              " 'vine celebrate life death app clip',\n",
              " 'squatty potty ceo griffin image divisive disturbing decision really',\n",
              " 'thing let go new year',\n",
              " 'comment police union post pic hillary arrested facebook dan',\n",
              " 'koch brother secretly allied w george soros hillary clinton',\n",
              " 'trump expands search secretary state new york time',\n",
              " 'teacher yr old wait trump elected going deport muslim',\n",
              " 'cost choice top concern health insurance customer new york time',\n",
              " 'shaq announces plan run sheriff breitbart',\n",
              " 'illegal immigrant crossing border vote',\n",
              " 'pirate fail take helm iceland pirate party gain mileage enough steady ship alone',\n",
              " 'billionaire building davos new york time',\n",
              " 'running danger alaskan trail new york time',\n",
              " 'la pel cula de su vida descubre que ha llevado siempre un trozo de lechuga entre los dientes',\n",
              " 'dems win congressional baseball game give trophy republican steve scalise breitbart',\n",
              " 'france present strict gun control paper tiger breitbart',\n",
              " 'china russia silk road commodity nixon massive bull market gold silver',\n",
              " 'troubled quarterback johnny manziel appear shopping mall sign autograph next super bowl breitbart',\n",
              " 'bob dylan accused lifting part nobel prize speech sparknotes',\n",
              " 'blimp crash e coli contamination snakebitten u open witness spectator death breitbart',\n",
              " 'public employee shadow world american carnage',\n",
              " 'espn lz granderson justified think kaepernick blackballed nobody sign breitbart',\n",
              " 'prescription painkiller death dropped state legalized marijuana',\n",
              " 'low growth world get new york time',\n",
              " 'istanbul donald trump benjamin netanyahu morning briefing new york time',\n",
              " 'hitler hillary',\n",
              " 'dalian wanda hollywood event production new york time',\n",
              " 'comment pm water cooler timmy',\n",
              " 'breakdown clinton money machine',\n",
              " 'california forefront climate fight back trump new york time',\n",
              " 'g e year old software start new york time',\n",
              " 'hillary clinton hamilton would enough new york time',\n",
              " 'brain concussion child adult know vaccine damage',\n",
              " 'trump great paul craig robert',\n",
              " 'hillary frantic dirty secret implodes get worse prison bombshell',\n",
              " 'renting car know rule road new york time',\n",
              " 'impeachment political brazil something sinister new york time',\n",
              " 'trump interview moderate view defies convention new york time',\n",
              " 'review sweetbitter bright light big city restaurant set new york time',\n",
              " 'gonzaga beat south carolina final four shot another first new york time',\n",
              " 'gorka trump interventionist commander chief nothing changed breitbart',\n",
              " 'thank fbi clinton email investigation shifted poll number significantly trump favor',\n",
              " 'race class dictate republican future',\n",
              " 'gorsuch scalia lion law judge look law demand prefer breitbart',\n",
              " 'nc state provides student post election comfort food therapy',\n",
              " 'iraqi troop push mosul killed across iraq',\n",
              " 'pregnant woman turn marijuana perhaps harming infant new york time',\n",
              " 'biggest winner loser u presidential election',\n",
              " 'trump psychic listen word one year ago look happened',\n",
              " 'mccain trump attack press dictator get started breitbart',\n",
              " 'judgment day one reason every christian jew america vote donald trump',\n",
              " 'coup stolen election',\n",
              " '',\n",
              " 'thing need know blacked dakota access pipeline protest',\n",
              " 'germany iraqi asylum seeker convicted raping chinese student',\n",
              " 'teenage boy knock classmate assaulting female teacher face epic',\n",
              " 'take bring hillary clinton justice',\n",
              " 'ice round criminal alien texas capital',\n",
              " 'election hate grief new story',\n",
              " 'hillary question michelle obama help',\n",
              " 'keith vaz british lawmaker quits senior post amid sex drug scandal new york time',\n",
              " 'comment sunday devotional whole universe grain sunday devotional whole universe grain fellowship mind kommonsentsjane',\n",
              " 'donald trump syria emperor akihito morning briefing new york time',\n",
              " 'hell frozen michelle obama made hillary destroying move twitter',\n",
              " 'flynn critic call nuclear scientist miss usa dumb dis feminism call health care privilege breitbart',\n",
              " 'hampshire college student accused assaulting basketball player wearing hair braid claim cultural appropriation breitbart',\n",
              " 'obamamometer toxic legacy rule lawlessness',\n",
              " 'simone manuel gold ripple beyond pool new york time',\n",
              " 'voting machine programmed order steal election',\n",
              " 'redrawing tree life scientist discover new bacteria group stunning microbial diversity underground',\n",
              " 'trump putin destroy isi',\n",
              " 'photo game camera catch glimpse possible antlered buck',\n",
              " 'turkey relation europe sink amid quarrel netherlands new york time',\n",
              " 'wikileaks document reveal united nation interest ufo video',\n",
              " 'blue state blue deliberate politicization intimacy',\n",
              " 'clare hollingworth reporter broke news world war ii dy new york time',\n",
              " 'north miami police officer shoot man aiding patient autism new york time',\n",
              " 'path total dictatorship america shadow government silent coup',\n",
              " 'effort curb police abuse mixed record uncertain future new york time',\n",
              " 'signal major bottom gold silver',\n",
              " 'hey ho old england embrace punk rock year later new york time',\n",
              " 'canoe reek genocide theft white privilege say canadian professor',\n",
              " 'illegal immigrant advocate pledge resist deportation trump',\n",
              " 'cdc scientist confirms donald trump right vaccine autism',\n",
              " 'breitbart news daily draining swamp breitbart',\n",
              " 'trump medium frankenstein monster',\n",
              " 'watch tony romo say goodbye dallas cowboy instagram video breitbart',\n",
              " 'globalism far right conspiracy theory buoyed trump new york time',\n",
              " 'georgia father convicted murder toddler death hot car new york time',\n",
              " 'richard bolles dy wrote color parachute new york time',\n",
              " 'stranahan steve bannon nailed medium fight trump breitbart',\n",
              " 'texas elector expects massive corruption related electoral college vote',\n",
              " 'guilty power nullification counteract government tyranny',\n",
              " 'trillion new debt day',\n",
              " 'tory councillor say homeless people eliminated',\n",
              " 'review hillbilly elegy tough love analysis poor back trump new york time',\n",
              " 'criminal chief',\n",
              " 'government lie movie',\n",
              " 'trump brexit defeat globalism anyway',\n",
              " 'facing congress sport official begin confront sexual abuse new york time',\n",
              " 'airbnb end fight new york city fine new york time',\n",
              " 'big pharma martin shkreli suspended twitter breitbart',\n",
              " 'next big tech corridor seattle vancouver planner hope new york time',\n",
              " 'evidence robot winning race american job new york time',\n",
              " 'seeing africa road new york time',\n",
              " 'happens hip hop hillary go dead broke brace',\n",
              " 'bill maher high trump state free speech new era new york time',\n",
              " 'l p g tour donald trump complicated new york time',\n",
              " 'legend art cashin trump presidency new world order gold brexit great depression see panic',\n",
              " 'fl sheriff day go arrest lot illegal alien preying people breitbart',\n",
              " 'donald trump threatens cancel berkeley federal fund riot shut milo event',\n",
              " '',\n",
              " 'bill herz last war world broadcast crew dy new york time',\n",
              " 'gary johnson equates syria death caused assad west new york time',\n",
              " 'republican senator bill defund un anti israel resolution',\n",
              " 'rose evansky pioneer woman hairstyling dy new york time',\n",
              " 'blackstone saudi arabia announce billion investment u infrastructure breitbart',\n",
              " 'saturated fat heart disease greatest scam history medicine',\n",
              " 'dem sen merkley gorsuch nomination court packing scheme turned nomination breitbart',\n",
              " 'four common mistake burning wood',\n",
              " 'push internet privacy rule move statehouse new york time',\n",
              " 'madonna gave surprise pop concert support clinton new york time',\n",
              " 'trump supporter plan anti trump rally lack tax reform',\n",
              " 'british healthcare offer glimpse future obamacare',\n",
              " 'trump iranian president rouhani better careful breitbart',\n",
              " 'breaking sec defense carter attempting fool american public veteran caught red handed',\n",
              " 'putin adviser take credit trump victory maybe helped bit wikileaks',\n",
              " 'warren buffett stake suggests apple grown new york time',\n",
              " 'fbi clinton email investigation shifted poll number significantly trump favor',\n",
              " 'hillary horrified pic surfaced overnight want',\n",
              " 'paul lepage governor maine say quitting new york time',\n",
              " 'colorado radio station paul martin interview dave hodges election fraud standing rock',\n",
              " 'bill clinton want called something completely ridiculous hillary elected',\n",
              " 'son death sally mann stage haunting show new york time',\n",
              " 'trump team link russia crisscross washington new york time',\n",
              " 'north korean arrested killing kim jong un half brother new york time',\n",
              " 'surgeon admit mammography outdated harmful woman',\n",
              " 'war street paris armed migrant fight running battle french capital',\n",
              " 'oscar voter meryl streep nominated anti trump speech',\n",
              " 'texas enacts anti sharia law',\n",
              " 'chicago police board chair windy city need federal help turn tide crime breitbart',\n",
              " 'looking beyond november th song oligarchy doom',\n",
              " 'neil young celebrates st birthday performing standing rock',\n",
              " 'exclusive amid paul ryan obamacare push mississippi chris mcdaniel prep potential senate run breitbart',\n",
              " 'boom short list people inspiring michelle obama',\n",
              " 'artist going boycott grammys face fallout fraught award new york time',\n",
              " 'video idiot destroys trump hollywood star get bad news second later',\n",
              " 'elite want global economy collapse',\n",
              " 'best health benefit sweating',\n",
              " 'senate confirms scott pruitt e p head new york time',\n",
              " 'cricket snake crab mix fact fraud new york subway new york time',\n",
              " 'session potential deputy face stern test russia inquiry new york time',\n",
              " 'suicide squad top box office second weekend new york time',\n",
              " 'health insurer plan rate hike obamacare exchange breitbart',\n",
              " 'look like someone think democrat ohio full manure',\n",
              " 'syrian war report november govt force relaunch offensive operation inside outside aleppo',\n",
              " 'mystery solved get hillary clinton get movin twitchy com',\n",
              " 'senate narrowly pass rollback obama era auto r rule new york time',\n",
              " 'cramped costly bay area cry build baby build new york time',\n",
              " 'championing optimism obama hail clinton political heir new york time',\n",
              " 'fiona apple release trump protest chant new york time',\n",
              " 'susan rice u must integrate lgbt right gov foreign policy',\n",
              " 'trump organization move avoid possible conflict interest new york time',\n",
              " 'sweden brink police force pushed breaking point violence amid migrant influx',\n",
              " 'comment hemp v cotton ultimate showdown hemp readdressing cannabis kuebiko co',\n",
              " 'jared kushner trump son law cleared serve adviser new york time',\n",
              " 'fisherman face life prison catching worth cocaine selling breitbart',\n",
              " 'stepping ring rolling punch new york time',\n",
              " 'adnan syed serial podcast get retrial murder case new york time',\n",
              " 'scientist say weird signal space probably alien',\n",
              " 'u swimmer disputed robbery claim fuel tension brazil new york time',\n",
              " 'way take self care vacation new york time',\n",
              " 'economist sign letter urging america vote donald trump',\n",
              " 'campaign long expensive chaotic maybe good thing new york time',\n",
              " 'alien megastructure star targeted million seti search',\n",
              " 'brazen killing myanmar lawyer came sparred military new york time',\n",
              " 'jane pauley back new york time',\n",
              " 'deutsche bank considering alternative paying cash bonus',\n",
              " 'danny dyer football foul ups dvd second',\n",
              " 'lack oxford comma could cost maine company million overtime dispute new york time',\n",
              " 'european parliament committee considering legal right robot breitbart',\n",
              " 'rex tillerson aggressive dealmaker whose tie russia may prompt scrutiny new york time',\n",
              " 'fbi conduct new investigation email clinton private illegal server',\n",
              " 'heart mine u empire culture industry',\n",
              " 'report megyn trash trump newt murdoch announces replacement available',\n",
              " 'russian scientist track sea lion space',\n",
              " 'seizing definition populism reuters warns u chaos come',\n",
              " 'seaworthy ready early unveiling new york time',\n",
              " 'donald trump add k mcfarland national security team new york time',\n",
              " 'snowstorm brings wintry mix slush gripe new york time',\n",
              " 'republican wilder tillerson thursday evening briefing new york time',\n",
              " 'review bryan cranston shine lyndon johnson way new york time',\n",
              " 'samsung urge consumer stop using galaxy note battery fire new york time',\n",
              " 'election result discussion presidential election open thread',\n",
              " 'ag lynch told fbi director comey go public new clinton email investigation',\n",
              " 'donald trump rise white identity politics',\n",
              " 'red blue divided six view america new york time',\n",
              " 'france identifies nd man attacked church killed priest new york time',\n",
              " 'dreamer arrested nationwide gang crackdown',\n",
              " 'maxine water american public getting weary trump impeached yet breitbart',\n",
              " 'wwn horoscope',\n",
              " 'deported italian mobster caught sneaking across u mexico border',\n",
              " 'leaked audio hillary clinton pushed rigging palestine election',\n",
              " 'iranian saudi proxy struggle tore apart middle east new york time',\n",
              " 'lavrov kerry discus syrian settlement',\n",
              " 'l influence de usa et de l otan dans le rapport de l ue avec la chine manlio dinucci',\n",
              " 'open border group gird h b fight',\n",
              " 'weinergate expose darker dirtier secret imagined',\n",
              " 'trump election break chain political correctness',\n",
              " 'whitehouse gov take climate page put america first energy plan breitbart',\n",
              " 'iran warns president elect trump mess sweetheart nuclear deal obama',\n",
              " 'tony perkins trump eo affirms jefferson doctrine separation church state',\n",
              " 'moon fell heaven',\n",
              " 'mom star launch campaign planned parenthood',\n",
              " 'assad lesson aleppo force work consequence new york time',\n",
              " 'penny bossert bannon demoted continue play important policy role breitbart',\n",
              " 'bundy ranch occupier acquitted count challenging corrupt bureau land management',\n",
              " 'report google face fine billion eu antitrust case breitbart',\n",
              " 'ask thom yorke write cover quote book',\n",
              " 'internet flasher',\n",
              " 'gretchen carlson suit aim retaliation discrimination new york time',\n",
              " 'google launch ai program detect hate speech breitbart',\n",
              " 'poll showing hillary lead useless misleading cartoon',\n",
              " 'last second lane merger good traffic new york time',\n",
              " 'macau skipping casino embracing past new york time',\n",
              " 'montreal ungainly unloved christmas tree new york time',\n",
              " 'photo jupiter nasa spacecraft near far new york time',\n",
              " 'trump labor pick andrew puzder critic minimum wage increase new york time',\n",
              " 'nico rosberg take formula one driver title despite lewis hamilton win abu dhabi new york time',\n",
              " 'sensory isolation tank taught brain new york time',\n",
              " 'chelsea handler botch tweet attacking trump grandchild',\n",
              " 'report trump move tax reform plan without speaker paul ryan breitbart',\n",
              " 'ag jeff session unveils program accelerate deportation imprisoned illegals breitbart',\n",
              " 'former u attorney dc new hillary email probe result revolt inside fbi',\n",
              " 'keeping appearance ruined former dallas banker new york time',\n",
              " 'sesame seed knee osteoarthritis',\n",
              " 'white cop interact black real life',\n",
              " 'pennsylvania republican pushing ban private gun sale breitbart',\n",
              " 'review warcraft orcs different domain fighting heart new york time',\n",
              " 'good people share bad info need fact check click share',\n",
              " 'charitable wedding registry new york time',\n",
              " 'nypd raided hillary property found ruin life usa newsflash',\n",
              " 'feinstein gorsuch originalist doctrine really troubling originalism would allowed segregation breitbart',\n",
              " 'confrontation flare obama traveling party reach china new york time',\n",
              " 'reason apply job trump administration',\n",
              " 'thought silver market rigged',\n",
              " 'hear agnes martin serenity john zorn frenzied music new york time',\n",
              " 'must see welcome family many hispanic american voting donald trump',\n",
              " 'iraqi force enter western mosul fierce battle isi new york time',\n",
              " 'european future putin migrant crisis video',\n",
              " 'rolling stone defamation case magazine reporter ordered pay million new york time',\n",
              " 'hillary sick tired suffering weiner backup',\n",
              " 'taiwan italy joe mcknight friday evening briefing new york time',\n",
              " 'shiite militia say close tal afar turkey warned limit',\n",
              " 'brother clinton campaign chair active foreign agent saudi arabian payroll',\n",
              " 'must fight trump go conservative freedom caucus new york time',\n",
              " 'isi kidnaps kill least civilian afghanistan',\n",
              " 'holding hillary accountable',\n",
              " 'breaking ted cruz call special prosecutor investigate hillary truthfeed',\n",
              " 'spared gunman charleston churchgoer describes night terror new york time',\n",
              " 'war saturated fat harmed people poor country shunned traditional fat like coconut oil',\n",
              " 'democrat garland mind mobilize supreme court fight new york time',\n",
              " 'comment best kind milk dairy best kind milk dairy collective evolution apg editorial',\n",
              " 'harry reid blast comey misconduct drop bombshell fbi sitting russian trump info',\n",
              " 'national review conservatism inc plan cave even immigration',\n",
              " 'watch thug call u marine pussy barely life tell tale',\n",
              " 'next u president psycho lesbian plus breaking news video',\n",
              " 'critic see effort county town purge minority voter roll new york time',\n",
              " 'evening briefing hillary clinton donald trump cultural revolution new york time',\n",
              " 'indiana parent lose baby year life jail abuse say never happened',\n",
              " 'rolling stone paint blue new album new york time',\n",
              " 'uber extends olive branch local government data new york time',\n",
              " 'wilder put dutch first brussels africa asylum seeker',\n",
              " 'donald trump good education enriches mind soul',\n",
              " 'watch brad pitt play afghanistan war general war machine teaser breitbart',\n",
              " 'two powerful earthquake strike central italy',\n",
              " 'indoor gardening made easy nutritower',\n",
              " 'elizabeth warren defines sleazy hypocrisy',\n",
              " 'rush limbaugh reilly departure natural campaign breitbart',\n",
              " 'museum trustee trump donor support group deny climate change new york time',\n",
              " 'cecile richards credit planned parenthood supporter stopping ahca breitbart',\n",
              " 'switch chip know anymore',\n",
              " 'u concedes million payment iran delayed prisoner leverage new york time',\n",
              " 'australia say foiled terrorist plot new york time',\n",
              " 'oroville dam state federal government share blame',\n",
              " 'daily traditionalist jeff schoep nsm',\n",
              " 'michael moore joe blow vote trump ultimate f elite human molotov cocktail',\n",
              " 'jaguar owner shahid khan opposes trump immigration ban new york time',\n",
              " 'anti trump advert side bus really visually clever see motion',\n",
              " 'piano man many face stranger story new york time',\n",
              " 'ticket released harry potter cursed child new york time',\n",
              " 'fbi visit man home film u postal distribution center',\n",
              " 'hispanic crowd boo marco rubio stage',\n",
              " 'fired tv reporter received thousand sexual violent threat',\n",
              " 'detained illegal alien end day hunger strike',\n",
              " 'breaking silence officer testifies killing walter scott new york time',\n",
              " 'illegal immigrant allegedly kill parking spot',\n",
              " 'president trump honor little sister poor first white house nat l day prayer year breitbart',\n",
              " 'hillary clinton supporter calling recount vote battleground state',\n",
              " 'hbo scrap jon stewart animated comedy series',\n",
              " 'sentencing murderer rare book dealer',\n",
              " 'latest stock market investing book financial market',\n",
              " 'fashion industry ceo supporting planned parenthood civic responsibility',\n",
              " 'anti trump protest paid staged craigslist reveals',\n",
              " 'men exercise putting damper sex life new york time',\n",
              " 'baking soda coconut oil kill cancer eye opening evidence',\n",
              " 'trump citing evidence suggests susan rice committed crime new york time',\n",
              " 'breitbart news daily gorsuch scotus breitbart',\n",
              " 'hillary arrested',\n",
              " 'siri open smart lock let neighbor walk house',\n",
              " 'donald trump michael phelps zika tuesday evening briefing new york time',\n",
              " 'obama furious fed deplorables drop piece gift',\n",
              " 'l mark year since rodney king riot breitbart',\n",
              " 'de facto u al qaeda alliance information',\n",
              " 'cory booker paul revere moment underway russian coming breitbart',\n",
              " 'rapper troy ave shot brooklyn new york time',\n",
              " 'seattle judge ignorant jihad conviction prior imposing refugee reform ban breitbart',\n",
              " 'texas student skip school protest arrest violent criminal',\n",
              " 'trump aide try reassure europe many wary new york time',\n",
              " 'china trigger next global recession',\n",
              " 'bombing kill baghdad new york time',\n",
              " 'comment black racism martin wright',\n",
              " 'thank fbi clinton email investigation shifted poll number significantly trump favor',\n",
              " 'u rescue attempt afghanistan missed western hostage hour new york time',\n",
              " 'rick rule look sprott asset management client money right',\n",
              " 'farm owner arrested protesting dakota access pipeline theft land',\n",
              " 'trump poised lift ban c black site prison new york time',\n",
              " 'tesla musk investigated solarcity congress',\n",
              " 'ridiculously stupid thing men keep woman',\n",
              " 'press tv duff un condemnation moderate terrorist',\n",
              " 'nemesis scourge western world',\n",
              " 'trump budget new foundation american greatness breitbart',\n",
              " 'exclusive islamic state supporter vow terror group retake mosul liberator',\n",
              " 'rolling thunder motorcyclist return c honor pow mia breitbart',\n",
              " 'interesting fun fact stethoscope',\n",
              " 'china seek bigger role world stage xi jinping go davos world economic forum new york time',\n",
              " 'veteran prepare join standing rock protester stop dakota access pipeline',\n",
              " 'photo latin america condemns venezuela excessive use force protest breitbart',\n",
              " 'sugar feed cancer cell may even create',\n",
              " 'john kerry urge grounding military aircraft key area syria new york time',\n",
              " 'outside money favor hillary clinton rate donald trump new york time',\n",
              " 'fake news new york time target breitbart reporting truth breitbart',\n",
              " 'blast new yorkers examine psychological shrapnel new york time',\n",
              " 'resistance schwarzenegger call grassroots revolution u exit paris agreement',\n",
              " 'virginia official request u inquiry inmate death jail new york time',\n",
              " 'report voter fraud crash course',\n",
              " 'associated press reporter admits faking news story hillary clinton',\n",
              " 'review garth brook brings rousing anthem ballad yankee stadium new york time',\n",
              " 'sicher trainieren beim spinning gilt ab sofort helmpflicht',\n",
              " 'every asset class collapse need looking wealth term many chicken much gas buy',\n",
              " 'review halt catch fire time travel silicon valley dawn new york time',\n",
              " 'obama used religious test favor muslim christian',\n",
              " 'wingsuit flyer v tree',\n",
              " 'turkey say airport bomber kyrgyzstan russia uzbekistan new york time',\n",
              " 'turmeric powerful artificial drug',\n",
              " 'facebook caught selling targeted advertisement excludes different race',\n",
              " 'gatlinburg resident return home wildfire destruction new york time',\n",
              " 'year old girl used human bomb nigeria attack',\n",
              " 'shock berkeley poll california voter want democrat work trump breitbart',\n",
              " 'family terror attack victim sue twitter providing resource service isi breitbart',\n",
              " 'philippine leader vow pardon police accused mayor death new york time',\n",
              " 'fda found manipulating medium favor big pharma',\n",
              " 'jay h lehr beginning end epa',\n",
              " 'imahdi arrival satanism practiced leader',\n",
              " 'ag session dem sen harris able rushed fast make nervous breitbart',\n",
              " 'u n envoy say u still back palestinian state new york time',\n",
              " 'trump happened',\n",
              " 'japan vote strengthens shinzo abe goal change constitution new york time',\n",
              " 'trump camp caught cam bragging voter suppression woman black video',\n",
              " 'chelsea manning asks obama cut sentence time served new york time',\n",
              " 'red sox broadcaster jerry remy think foreign player use translator',\n",
              " 'shi ite militia join iraq mosul attack',\n",
              " 'escapism reign super bowl commercial politics prof inescapable new york time',\n",
              " 'naval brief november th ledahu',\n",
              " 'scandalous video footage anonymous expose huma hillary',\n",
              " 'jarring new level confrontation conflict hit washington new york time',\n",
              " 'clinton transmitted classified info lawyer',\n",
              " 'hillary russian hacking guided american might trump breitbart',\n",
              " 'general election campaigning suspended wake manchester suicide bombing',\n",
              " 'grand slam father son film smash hit family',\n",
              " 'venezuela economic crisis mean left failed',\n",
              " 'herd stampeding wild boar kill three islamic state jihadist breitbart',\n",
              " 'venus mar believe gender often wrong new york time',\n",
              " 'obama pardon list hotel magnate owned studio new york time',\n",
              " 'suspect captured ambush style killing two iowa cop',\n",
              " 'megyn sic kelly gowdy triumphantly comment hillary case reopening',\n",
              " 'family friendly policy friendliest male professor new york time',\n",
              " 'ringo starr anuncia que deja los beatles',\n",
              " 'war le imminent clinton defeat',\n",
              " 'mi chief present russia growing threat british interest',\n",
              " 'washington state upended trump travel ban new york time',\n",
              " 'protect swerve police chief caught speeding get laugh ticket video',\n",
              " 'fake news trump hit mexico explodes',\n",
              " 'going wikileaks',\n",
              " 'former cia director blame millennials wikileaks document breitbart',\n",
              " 'tell story slavery new york time',\n",
              " 'live wire dutch election high turnout expected controversy turkish mosque polling centre',\n",
              " 'shaving mean freedom omar',\n",
              " 'bombshell leaked email expose muslim got obama administration',\n",
              " 'native american part ten lost tribe jewish people',\n",
              " 'blm rapper bill alleged son nasty surprise hillary',\n",
              " 'kevin durant join golden state warrior new york time',\n",
              " 'indian call center become major center defrauding american breitbart',\n",
              " 'congress attorney general lynch pleads fifth secret iran ransom payment',\n",
              " 'los angeles time editorial loses trump narcissist demagogue breitbart',\n",
              " 'swirl untruth falsehood calling lie lie new york time',\n",
              " 'hillary clinton lead donald trump new hampshire florida poll show new york time',\n",
              " 'gene wilder huma abedin donald trump monday evening briefing new york time',\n",
              " 'watch blimp crash catch fire u open breitbart',\n",
              " 'toddler loose gun car mother dy new york time',\n",
              " 'asian american actor fighting visibility ignored new york time',\n",
              " 'mexican feel environment',\n",
              " 'inside donald trump last stand anxious nominee seek assurance new york time',\n",
              " 'park service name diverse national landmark new york time',\n",
              " 'weiner rising white house ally disgraced ex congressman hired breitbart',\n",
              " 'trump loses grabbing musket former congressman ready go full revolution',\n",
              " 'decoding north korea claim successful nuclear test new york time',\n",
              " 'bill belichick witness list testify aaron hernandez double murder case breitbart',\n",
              " 'l mayor silent city rising violent crime breitbart',\n",
              " 'theresa may new british prime minister give boris johnson key post new york time',\n",
              " 'donald trump hillary clinton iphone wednesday evening briefing new york time',\n",
              " 'usa killed million people victim nation since world war ii',\n",
              " 'police officer face backlash hillary photo',\n",
              " 'shakespeare remain authentically boring',\n",
              " 'georgia candidate jon ossoff film firm financed facebook fact check funder',\n",
              " 'effort defeat isi u iran impede one another new york time',\n",
              " 'rick put bullet trump wilson potus supporter see scalise shooting blessing breitbart',\n",
              " 'western intelligence agency running al qaeda camp north africa',\n",
              " 'trump tell planned parenthood funding stay abortion go new york time',\n",
              " 'comment hillary clinton gun control agenda exposed wikileaks email braindiseasecalledliberalism',\n",
              " 'barack obama delay suspend election hillary forced new fbi email investigation',\n",
              " 'donald trump incites feud g p candidate flee shadow new york time',\n",
              " 'germany student forced chant allahu akbar punished refusing trip mosque',\n",
              " 'meteor space junk rocket mysterious flash hit siberia',\n",
              " 'trump national security adviser called russian envoy day sanction imposed new york time',\n",
              " 'project veritas implicated democratic operative claim credit romney video',\n",
              " 'laid american required zip lip way grow bolder new york time',\n",
              " ...]"
            ]
          },
          "metadata": {},
          "execution_count": 65
        }
      ]
    },
    {
      "cell_type": "markdown",
      "source": [
        "\n",
        "Keras provide the function one_hot to efficiently encode each word in the titles as an interger.\n",
        "This must be done prior to Word Embedding\n",
        "Index of words located in the Dictionary\n"
      ],
      "metadata": {
        "id": "jOh1JaVpA2jw"
      }
    },
    {
      "cell_type": "code",
      "source": [
        "vocab=10000\n",
        "hot_title = [one_hot(i, vocab) for i in list_titles]\n",
        "hot_title[:4]"
      ],
      "metadata": {
        "colab": {
          "base_uri": "https://localhost:8080/"
        },
        "id": "aWXPQOe6z0l0",
        "outputId": "0d7ea765-5c89-4e22-87e4-a1f5f4c079ec"
      },
      "execution_count": null,
      "outputs": [
        {
          "output_type": "execute_result",
          "data": {
            "text/plain": [
              "[[7971, 1125, 8570, 494, 8423, 2977, 1621, 2506, 8672, 4826],\n",
              " [7117, 8425, 4336, 9026, 9027, 455, 738],\n",
              " [5792, 4122, 3401, 1972],\n",
              " [6686, 7764, 5406, 135, 4096, 4701]]"
            ]
          },
          "metadata": {},
          "execution_count": 69
        }
      ]
    },
    {
      "cell_type": "code",
      "source": [
        "longest = [len(i) for i in hot_title]\n",
        "max(longest)"
      ],
      "metadata": {
        "colab": {
          "base_uri": "https://localhost:8080/"
        },
        "id": "HivCcXHB1sUd",
        "outputId": "71d181d6-63a3-4d01-be66-e023fc64f738"
      },
      "execution_count": null,
      "outputs": [
        {
          "output_type": "execute_result",
          "data": {
            "text/plain": [
              "47"
            ]
          },
          "metadata": {},
          "execution_count": 75
        }
      ]
    },
    {
      "cell_type": "code",
      "source": [
        "max_length = 50\n",
        "embed_input = pad_sequences(hot_title, maxlen = max_length, padding='pre')\n",
        "print(embed_input)"
      ],
      "metadata": {
        "colab": {
          "base_uri": "https://localhost:8080/"
        },
        "id": "Mc378hdz1tkF",
        "outputId": "1086e28d-dbc0-4ac2-8b44-c1cfdc97876a"
      },
      "execution_count": null,
      "outputs": [
        {
          "output_type": "stream",
          "name": "stdout",
          "text": [
            "[[   0    0    0 ... 2506 8672 4826]\n",
            " [   0    0    0 ... 9027  455  738]\n",
            " [   0    0    0 ... 4122 3401 1972]\n",
            " ...\n",
            " [   0    0    0 ... 6015 7003  461]\n",
            " [   0    0    0 ... 7108 9946  876]\n",
            " [   0    0    0 ... 7120 9632 3516]]\n"
          ]
        }
      ]
    },
    {
      "cell_type": "markdown",
      "source": [
        "# Modelling the data\n",
        "\n",
        "Arguments:\n",
        "\n",
        "sequences:List of lists where each element is a sequence\n",
        "\n",
        "maxlen:int, maximum length of all sequences\n",
        "\n",
        "dtype:type of the output sequences\n",
        "\n",
        "padding 'pre' or 'post', pad either before or after each sequence.\n",
        "\n",
        "Input shape: 2D tensor with shape: (batch_size, input_length)."
      ],
      "metadata": {
        "id": "asa8v08cEL0a"
      }
    },
    {
      "cell_type": "code",
      "source": [
        "model = Sequential() #creating the sequential model incrementally vi the add() method\n",
        "model.add(Embedding(input_dim=vocab, output_dim= 40, input_length=50))\n",
        "model.add(LSTM(150))\n",
        "model.add(Dense(1, activation='sigmoid'))#sigmoid returns a value close to zero\n",
        "#config the model with losses and metrics - compile()\n",
        "model.compile(loss = 'binary_crossentropy', optimizer = 'adam', metrics=['accuracy'])\n",
        "print(model.summary())"
      ],
      "metadata": {
        "colab": {
          "base_uri": "https://localhost:8080/"
        },
        "id": "7_HLxhX81thK",
        "outputId": "210eca53-ed39-4344-bf11-e10078ddc8cf"
      },
      "execution_count": null,
      "outputs": [
        {
          "output_type": "stream",
          "name": "stdout",
          "text": [
            "Model: \"sequential\"\n",
            "_________________________________________________________________\n",
            " Layer (type)                Output Shape              Param #   \n",
            "=================================================================\n",
            " embedding (Embedding)       (None, 50, 40)            400000    \n",
            "                                                                 \n",
            " lstm (LSTM)                 (None, 150)               114600    \n",
            "                                                                 \n",
            " dense (Dense)               (None, 1)                 151       \n",
            "                                                                 \n",
            "=================================================================\n",
            "Total params: 514,751\n",
            "Trainable params: 514,751\n",
            "Non-trainable params: 0\n",
            "_________________________________________________________________\n",
            "None\n"
          ]
        }
      ]
    },
    {
      "cell_type": "markdown",
      "source": [
        "sequence()a plain stack of layers where each layer has exactly one input tensor and one output tensor\n",
        "create a Sequential model incrementally via the add() method\n",
        "the input of the LSTM is always a 3D array (batch_size, time_steps, units)\n",
        "The output of the LSTM could be a 2D array or 3D array depending upon the return_sequences argument. If return_sequence is False, the output is a 2D array. (batch_size, units) If return_sequence is True, the output is a 3D array. (batch_size, time_steps, units)\n",
        "in this case; the return_sequence is false - this is the default, therefore - 2D LSTM output\n",
        "\n",
        "3D tensor with shape: (batch_size, input_length, output_dim). alteration in shape, flattening and then re-shaping"
      ],
      "metadata": {
        "id": "ZmXBGxcuFW9L"
      }
    },
    {
      "cell_type": "code",
      "source": [
        "# Describe the model\n",
        "plot_model(model)"
      ],
      "metadata": {
        "colab": {
          "base_uri": "https://localhost:8080/",
          "height": 369
        },
        "id": "QTdgy-C61tc2",
        "outputId": "f053eabb-4058-4c54-cd95-439788515ecc"
      },
      "execution_count": null,
      "outputs": [
        {
          "output_type": "execute_result",
          "data": {
            "image/png": "[encoded data removed]",
            "text/plain": [
              "<IPython.core.display.Image object>"
            ]
          },
          "metadata": {},
          "execution_count": 78
        }
      ]
    },
    {
      "cell_type": "code",
      "source": [
        "embed_input.shape"
      ],
      "metadata": {
        "colab": {
          "base_uri": "https://localhost:8080/"
        },
        "id": "2EgTn8CH1tZA",
        "outputId": "4a2d42d8-c53e-44a9-b28d-925c596c738b"
      },
      "execution_count": null,
      "outputs": [
        {
          "output_type": "execute_result",
          "data": {
            "text/plain": [
              "(18285, 50)"
            ]
          },
          "metadata": {},
          "execution_count": 79
        }
      ]
    },
    {
      "cell_type": "code",
      "source": [
        "y.shape"
      ],
      "metadata": {
        "colab": {
          "base_uri": "https://localhost:8080/"
        },
        "id": "83GgguIX1tVc",
        "outputId": "2c15ca6b-d4e6-4df7-b30b-aad83cbb9834"
      },
      "execution_count": null,
      "outputs": [
        {
          "output_type": "execute_result",
          "data": {
            "text/plain": [
              "(18285,)"
            ]
          },
          "metadata": {},
          "execution_count": 80
        }
      ]
    },
    {
      "cell_type": "code",
      "source": [
        "x_final = np.array(embed_input)\n",
        "y_final = np.array(y)\n",
        "x_final.shape, y_final.shape"
      ],
      "metadata": {
        "colab": {
          "base_uri": "https://localhost:8080/"
        },
        "id": "0sz8Se4C1tRV",
        "outputId": "4fe4b39c-e29c-4bfb-a534-08dca083393c"
      },
      "execution_count": null,
      "outputs": [
        {
          "output_type": "execute_result",
          "data": {
            "text/plain": [
              "((18285, 50), (18285,))"
            ]
          },
          "metadata": {},
          "execution_count": 81
        }
      ]
    },
    {
      "cell_type": "code",
      "source": [
        "from sklearn.model_selection import train_test_split\n",
        "x_train, x_test, y_train, y_test = train_test_split(x_final, y_final, test_size=0.33, random_state=42)"
      ],
      "metadata": {
        "id": "lU3udItf1tIB"
      },
      "execution_count": null,
      "outputs": []
    },
    {
      "cell_type": "code",
      "source": [
        "# Fitting the model\n",
        "model.fit(x_train, y_train, validation_data=(x_test, y_test), epochs=10, batch_size=64)"
      ],
      "metadata": {
        "colab": {
          "base_uri": "https://localhost:8080/"
        },
        "id": "W0SZOAQOGJVk",
        "outputId": "0744f370-d78c-46e2-e497-ff6a28fc9fa8"
      },
      "execution_count": null,
      "outputs": [
        {
          "output_type": "stream",
          "name": "stdout",
          "text": [
            "Epoch 1/10\n",
            "192/192 [==============================] - 27s 101ms/step - loss: 0.3217 - accuracy: 0.8525 - val_loss: 0.1900 - val_accuracy: 0.9203\n",
            "Epoch 2/10\n",
            "192/192 [==============================] - 4s 23ms/step - loss: 0.1197 - accuracy: 0.9514 - val_loss: 0.2004 - val_accuracy: 0.9251\n",
            "Epoch 3/10\n",
            "192/192 [==============================] - 4s 18ms/step - loss: 0.0613 - accuracy: 0.9771 - val_loss: 0.2279 - val_accuracy: 0.9135\n",
            "Epoch 4/10\n",
            "192/192 [==============================] - 3s 15ms/step - loss: 0.0264 - accuracy: 0.9918 - val_loss: 0.3528 - val_accuracy: 0.9178\n",
            "Epoch 5/10\n",
            "192/192 [==============================] - 2s 11ms/step - loss: 0.0155 - accuracy: 0.9949 - val_loss: 0.3391 - val_accuracy: 0.9143\n",
            "Epoch 6/10\n",
            "192/192 [==============================] - 2s 11ms/step - loss: 0.0063 - accuracy: 0.9984 - val_loss: 0.5094 - val_accuracy: 0.9060\n",
            "Epoch 7/10\n",
            "192/192 [==============================] - 4s 20ms/step - loss: 0.0024 - accuracy: 0.9995 - val_loss: 0.4972 - val_accuracy: 0.9185\n",
            "Epoch 8/10\n",
            "192/192 [==============================] - 3s 17ms/step - loss: 0.0011 - accuracy: 0.9998 - val_loss: 0.5900 - val_accuracy: 0.9150\n",
            "Epoch 9/10\n",
            "192/192 [==============================] - 2s 10ms/step - loss: 2.5672e-04 - accuracy: 1.0000 - val_loss: 0.6377 - val_accuracy: 0.9138\n",
            "Epoch 10/10\n",
            "192/192 [==============================] - 2s 10ms/step - loss: 7.1312e-05 - accuracy: 1.0000 - val_loss: 0.6814 - val_accuracy: 0.9147\n"
          ]
        },
        {
          "output_type": "execute_result",
          "data": {
            "text/plain": [
              "<keras.callbacks.History at 0x796aac0c7070>"
            ]
          },
          "metadata": {},
          "execution_count": 83
        }
      ]
    },
    {
      "cell_type": "markdown",
      "source": [
        "Describe performance of classificaiton model\n",
        "tweak to make sure that 'acc' and 'val_acc' and final 'accuracy' are more closer to each other.\n",
        "\n",
        "It is normal for validation accuracy to be lower than accuracy. But ideally, these values should be kept similar range. If validation accuracy is much lower than accuracy, be cautious of over fitting\n",
        "acc' refers to accuracy of what was trained against.\n",
        "\n",
        "\n",
        "'val_acc' refers to validation set. Note that val_acc refers to a set of samples that was not shown to the network during training and hence refers to how much your model works in general for cases outside the training set."
      ],
      "metadata": {
        "id": "jsAqXtoKGXoZ"
      }
    },
    {
      "cell_type": "code",
      "source": [
        "predict_x=model.predict(x_test)\n",
        "classes_x=np.argmax(predict_x,axis=1)"
      ],
      "metadata": {
        "colab": {
          "base_uri": "https://localhost:8080/"
        },
        "id": "Y4jWnDIDGNdg",
        "outputId": "561f2a33-289d-4d76-cac2-26d7cb938a84"
      },
      "execution_count": null,
      "outputs": [
        {
          "output_type": "stream",
          "name": "stdout",
          "text": [
            "189/189 [==============================] - 1s 3ms/step\n"
          ]
        }
      ]
    },
    {
      "cell_type": "code",
      "source": [
        "classes_x"
      ],
      "metadata": {
        "colab": {
          "base_uri": "https://localhost:8080/"
        },
        "id": "stN7KANfGNhE",
        "outputId": "46d94cd1-d05e-4e84-83e0-f8679a7d2e60"
      },
      "execution_count": null,
      "outputs": [
        {
          "output_type": "execute_result",
          "data": {
            "text/plain": [
              "array([0, 0, 0, ..., 0, 0, 0])"
            ]
          },
          "metadata": {},
          "execution_count": 87
        }
      ]
    },
    {
      "cell_type": "code",
      "source": [
        "y_test.shape"
      ],
      "metadata": {
        "colab": {
          "base_uri": "https://localhost:8080/"
        },
        "id": "uWmWGqstHafX",
        "outputId": "924a0ded-44d2-45da-9fbf-d8b7ab3d561c"
      },
      "execution_count": null,
      "outputs": [
        {
          "output_type": "execute_result",
          "data": {
            "text/plain": [
              "(6035,)"
            ]
          },
          "metadata": {},
          "execution_count": 91
        }
      ]
    },
    {
      "cell_type": "code",
      "source": [
        "classes_x.shape"
      ],
      "metadata": {
        "colab": {
          "base_uri": "https://localhost:8080/"
        },
        "id": "uEIWHY_8HdYN",
        "outputId": "b6d3f042-6061-4a4c-86a1-ed5d94466fa8"
      },
      "execution_count": null,
      "outputs": [
        {
          "output_type": "execute_result",
          "data": {
            "text/plain": [
              "(6035,)"
            ]
          },
          "metadata": {},
          "execution_count": 92
        }
      ]
    },
    {
      "cell_type": "code",
      "source": [
        "from sklearn.metrics import accuracy_score\n",
        "accuracy_score(y_test, classes_x)"
      ],
      "metadata": {
        "colab": {
          "base_uri": "https://localhost:8080/"
        },
        "id": "zpSb7431GNq9",
        "outputId": "2275fe11-2b7e-4777-c0c8-f4769bdfa1b6"
      },
      "execution_count": null,
      "outputs": [
        {
          "output_type": "execute_result",
          "data": {
            "text/plain": [
              "0.5665285832642917"
            ]
          },
          "metadata": {},
          "execution_count": 88
        }
      ]
    },
    {
      "cell_type": "code",
      "source": [
        " from sklearn.metrics import confusion_matrix\n",
        " confusion_matrix(y_test, classes_x)"
      ],
      "metadata": {
        "colab": {
          "base_uri": "https://localhost:8080/"
        },
        "id": "MO7OY_ZfGNxr",
        "outputId": "be5bbf9b-9152-449b-8e32-055c6d787b41"
      },
      "execution_count": null,
      "outputs": [
        {
          "output_type": "execute_result",
          "data": {
            "text/plain": [
              "array([[3419,    0],\n",
              "       [2616,    0]])"
            ]
          },
          "metadata": {},
          "execution_count": 90
        }
      ]
    },
    {
      "cell_type": "code",
      "source": [
        "model.evaluate(embed_input, y)"
      ],
      "metadata": {
        "colab": {
          "base_uri": "https://localhost:8080/"
        },
        "id": "-FFiAa9DGN03",
        "outputId": "06cf5483-805d-4fe0-e503-da6137a8fc88"
      },
      "execution_count": null,
      "outputs": [
        {
          "output_type": "stream",
          "name": "stdout",
          "text": [
            "572/572 [==============================] - 4s 5ms/step - loss: 0.2190 - accuracy: 0.9718\n"
          ]
        },
        {
          "output_type": "execute_result",
          "data": {
            "text/plain": [
              "[0.2190079540014267, 0.9718348383903503]"
            ]
          },
          "metadata": {},
          "execution_count": 93
        }
      ]
    },
    {
      "cell_type": "code",
      "source": [
        "score = model.evaluate(x_test, y_test, verbose = 0)\n",
        "\n",
        "print('Test loss:', score[0])\n",
        "print('Test accuracy:', score[1])"
      ],
      "metadata": {
        "colab": {
          "base_uri": "https://localhost:8080/"
        },
        "id": "cTW7yCbOGN6P",
        "outputId": "9bca684d-f5ac-4400-9afb-6d25df36b4c5"
      },
      "execution_count": null,
      "outputs": [
        {
          "output_type": "stream",
          "name": "stdout",
          "text": [
            "Test loss: 0.6814343929290771\n",
            "Test accuracy: 0.9146644473075867\n"
          ]
        }
      ]
    },
    {
      "cell_type": "markdown",
      "source": [
        "# Checking with Text"
      ],
      "metadata": {
        "id": "EceEae4ZIPlO"
      }
    },
    {
      "cell_type": "code",
      "source": [
        "text=x['text']"
      ],
      "metadata": {
        "id": "LtZLYXb9GN82"
      },
      "execution_count": null,
      "outputs": []
    },
    {
      "cell_type": "code",
      "source": [
        "text=text.reset_index()"
      ],
      "metadata": {
        "id": "-hPbTCQIIidl"
      },
      "execution_count": null,
      "outputs": []
    },
    {
      "cell_type": "code",
      "source": [
        "text=text['text']"
      ],
      "metadata": {
        "id": "RfzDBOvOIjmE"
      },
      "execution_count": null,
      "outputs": []
    },
    {
      "cell_type": "code",
      "source": [
        "text"
      ],
      "metadata": {
        "colab": {
          "base_uri": "https://localhost:8080/"
        },
        "id": "o93YoboXItdk",
        "outputId": "54295817-19e8-42dc-ac25-51a98a445673"
      },
      "execution_count": null,
      "outputs": [
        {
          "output_type": "execute_result",
          "data": {
            "text/plain": [
              "0        House Dem Aide: We Didn’t Even See Comey’s Let...\n",
              "1        Ever get the feeling your life circles the rou...\n",
              "2        Why the Truth Might Get You Fired October 29, ...\n",
              "3        Videos 15 Civilians Killed In Single US Airstr...\n",
              "4        Print \\nAn Iranian woman has been sentenced to...\n",
              "                               ...                        \n",
              "18280    Rapper T. I. unloaded on black celebrities who...\n",
              "18281    When the Green Bay Packers lost to the Washing...\n",
              "18282    The Macy’s of today grew from the union of sev...\n",
              "18283    NATO, Russia To Hold Parallel Exercises In Bal...\n",
              "18284      David Swanson is an author, activist, journa...\n",
              "Name: text, Length: 18285, dtype: object"
            ]
          },
          "metadata": {},
          "execution_count": 99
        }
      ]
    },
    {
      "cell_type": "code",
      "source": [
        "y"
      ],
      "metadata": {
        "colab": {
          "base_uri": "https://localhost:8080/"
        },
        "id": "ctFZG-zrIuTZ",
        "outputId": "079efc03-1eb7-435c-eb9e-bcabe5e07775"
      },
      "execution_count": null,
      "outputs": [
        {
          "output_type": "execute_result",
          "data": {
            "text/plain": [
              "0        1\n",
              "1        0\n",
              "2        1\n",
              "3        1\n",
              "4        1\n",
              "        ..\n",
              "18280    0\n",
              "18281    0\n",
              "18282    0\n",
              "18283    1\n",
              "18284    1\n",
              "Name: label, Length: 18285, dtype: int64"
            ]
          },
          "metadata": {},
          "execution_count": 100
        }
      ]
    },
    {
      "cell_type": "code",
      "source": [
        "ws = WordNetLemmatizer()\n",
        "list_text = []\n",
        "for i in range(0, len(text)):\n",
        "  headline = re.sub('[^a-zA-Z]', ' ', text[i])\n",
        "  #matching the text string for any lower case letter or uppercase\n",
        "  #when the ^ is on the inside of [], itmatches any character that does not appear inside []\n",
        "  #when ^ is on the outside of the []; i tmatches the beginning of the line/string - title\n",
        "  headline = headline.lower()\n",
        "  headline = headline.split()\n",
        "  headline = [ws.lemmatize(word) for word in headline if word not in stopwords.words(\"english\")]\n",
        "  headline = ' '.join(headline)\n",
        "  list_text.append(headline) #adds a single item to the existing list"
      ],
      "metadata": {
        "id": "d4Wkh9wpJjTB"
      },
      "execution_count": null,
      "outputs": []
    },
    {
      "cell_type": "code",
      "source": [
        "list_text"
      ],
      "metadata": {
        "id": "QICx-tN5Jvoj"
      },
      "execution_count": null,
      "outputs": []
    },
    {
      "cell_type": "code",
      "source": [
        "vocab=20000\n",
        "ohe_text = [one_hot(i, vocab) for i in list_text]\n",
        "ohe_text[:4]"
      ],
      "metadata": {
        "id": "UBNiZO6dKCr8"
      },
      "execution_count": null,
      "outputs": []
    },
    {
      "cell_type": "code",
      "source": [
        "longest = [len(i) for i in ohe_text]\n",
        "max(longest)"
      ],
      "metadata": {
        "id": "T6bLhcnFKDE1"
      },
      "execution_count": null,
      "outputs": []
    },
    {
      "cell_type": "code",
      "source": [
        "max_length = max(longest)\n",
        "embed_input = pad_sequences(ohe_text, maxlen = max_length, padding='pre')\n",
        "print(embed_input)"
      ],
      "metadata": {
        "id": "yGExi2JoKDOj"
      },
      "execution_count": null,
      "outputs": []
    },
    {
      "cell_type": "code",
      "source": [
        "model = Sequential() #creating the sequential model incrementally vi the add() method\n",
        "model.add(Embedding(input_dim=vocab, output_dim= 40, input_length=max_length))\n",
        "model.add(LSTM(150))\n",
        "model.add(Dense(1, activation='sigmoid'))#sigmoid returns a value close to zero\n",
        "#config the model with losses and metrics - compile()\n",
        "model.compile(loss = 'binary_crossentropy', optimizer = 'adam', metrics=['accuracy'])\n",
        "print(model.summary())"
      ],
      "metadata": {
        "id": "mpfIV3MXKnID"
      },
      "execution_count": null,
      "outputs": []
    },
    {
      "cell_type": "code",
      "source": [
        "x_final = np.array(embed_input)\n",
        "y_final = np.array(y)\n",
        "x_final.shape, y_final.shape"
      ],
      "metadata": {
        "id": "bwHcbur6KnhF"
      },
      "execution_count": null,
      "outputs": []
    },
    {
      "cell_type": "code",
      "source": [
        "x_train, x_test, y_train, y_test = train_test_split(x_final, y_final, test_size=0.33, random_state=42)"
      ],
      "metadata": {
        "id": "OxkYinW2KnlM"
      },
      "execution_count": null,
      "outputs": []
    },
    {
      "cell_type": "code",
      "source": [
        "model.fit(x_train, y_train, validation_data=(x_test, y_test), epochs=10, batch_size=64)"
      ],
      "metadata": {
        "id": "Ws6K3conKnpx"
      },
      "execution_count": null,
      "outputs": []
    },
    {
      "cell_type": "code",
      "source": [
        "predict_x=model.predict(x_test)\n",
        "classes_x=np.argmax(predict_x,axis=1)"
      ],
      "metadata": {
        "id": "fylIzq_-Knun"
      },
      "execution_count": null,
      "outputs": []
    },
    {
      "cell_type": "code",
      "source": [
        "accuracy_score(y_test, classes_x)"
      ],
      "metadata": {
        "id": "CP7A2Ke7Kn0D"
      },
      "execution_count": null,
      "outputs": []
    },
    {
      "cell_type": "code",
      "source": [
        "confusion_matrix(y_test, classes_x)"
      ],
      "metadata": {
        "id": "NYB0E4phLIF8"
      },
      "execution_count": null,
      "outputs": []
    }
  ]
}